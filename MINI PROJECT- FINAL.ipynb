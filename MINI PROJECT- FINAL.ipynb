{
 "cells": [
  {
   "cell_type": "code",
   "execution_count": 1,
   "metadata": {},
   "outputs": [],
   "source": [
    "import numpy as np\n",
    "import pandas as pd\n",
    "import matplotlib.pyplot as plt\n",
    "import random"
   ]
  },
  {
   "cell_type": "code",
   "execution_count": 2,
   "metadata": {},
   "outputs": [],
   "source": [
    "data = pd.read_csv('./world-development-indicators/Indicators.csv')"
   ]
  },
  {
   "cell_type": "code",
   "execution_count": 3,
   "metadata": {},
   "outputs": [
    {
     "data": {
      "text/plain": [
       "(5656458, 6)"
      ]
     },
     "execution_count": 3,
     "metadata": {},
     "output_type": "execute_result"
    }
   ],
   "source": [
    "data.shape"
   ]
  },
  {
   "cell_type": "code",
   "execution_count": 4,
   "metadata": {},
   "outputs": [
    {
     "data": {
      "text/html": [
       "<div>\n",
       "<style scoped>\n",
       "    .dataframe tbody tr th:only-of-type {\n",
       "        vertical-align: middle;\n",
       "    }\n",
       "\n",
       "    .dataframe tbody tr th {\n",
       "        vertical-align: top;\n",
       "    }\n",
       "\n",
       "    .dataframe thead th {\n",
       "        text-align: right;\n",
       "    }\n",
       "</style>\n",
       "<table border=\"1\" class=\"dataframe\">\n",
       "  <thead>\n",
       "    <tr style=\"text-align: right;\">\n",
       "      <th></th>\n",
       "      <th>CountryName</th>\n",
       "      <th>CountryCode</th>\n",
       "      <th>IndicatorName</th>\n",
       "      <th>IndicatorCode</th>\n",
       "      <th>Year</th>\n",
       "      <th>Value</th>\n",
       "    </tr>\n",
       "  </thead>\n",
       "  <tbody>\n",
       "    <tr>\n",
       "      <th>0</th>\n",
       "      <td>Arab World</td>\n",
       "      <td>ARB</td>\n",
       "      <td>Adolescent fertility rate (births per 1,000 wo...</td>\n",
       "      <td>SP.ADO.TFRT</td>\n",
       "      <td>1960</td>\n",
       "      <td>1.335609e+02</td>\n",
       "    </tr>\n",
       "    <tr>\n",
       "      <th>1</th>\n",
       "      <td>Arab World</td>\n",
       "      <td>ARB</td>\n",
       "      <td>Age dependency ratio (% of working-age populat...</td>\n",
       "      <td>SP.POP.DPND</td>\n",
       "      <td>1960</td>\n",
       "      <td>8.779760e+01</td>\n",
       "    </tr>\n",
       "    <tr>\n",
       "      <th>2</th>\n",
       "      <td>Arab World</td>\n",
       "      <td>ARB</td>\n",
       "      <td>Age dependency ratio, old (% of working-age po...</td>\n",
       "      <td>SP.POP.DPND.OL</td>\n",
       "      <td>1960</td>\n",
       "      <td>6.634579e+00</td>\n",
       "    </tr>\n",
       "    <tr>\n",
       "      <th>3</th>\n",
       "      <td>Arab World</td>\n",
       "      <td>ARB</td>\n",
       "      <td>Age dependency ratio, young (% of working-age ...</td>\n",
       "      <td>SP.POP.DPND.YG</td>\n",
       "      <td>1960</td>\n",
       "      <td>8.102333e+01</td>\n",
       "    </tr>\n",
       "    <tr>\n",
       "      <th>4</th>\n",
       "      <td>Arab World</td>\n",
       "      <td>ARB</td>\n",
       "      <td>Arms exports (SIPRI trend indicator values)</td>\n",
       "      <td>MS.MIL.XPRT.KD</td>\n",
       "      <td>1960</td>\n",
       "      <td>3.000000e+06</td>\n",
       "    </tr>\n",
       "  </tbody>\n",
       "</table>\n",
       "</div>"
      ],
      "text/plain": [
       "  CountryName CountryCode                                      IndicatorName  \\\n",
       "0  Arab World         ARB  Adolescent fertility rate (births per 1,000 wo...   \n",
       "1  Arab World         ARB  Age dependency ratio (% of working-age populat...   \n",
       "2  Arab World         ARB  Age dependency ratio, old (% of working-age po...   \n",
       "3  Arab World         ARB  Age dependency ratio, young (% of working-age ...   \n",
       "4  Arab World         ARB        Arms exports (SIPRI trend indicator values)   \n",
       "\n",
       "    IndicatorCode  Year         Value  \n",
       "0     SP.ADO.TFRT  1960  1.335609e+02  \n",
       "1     SP.POP.DPND  1960  8.779760e+01  \n",
       "2  SP.POP.DPND.OL  1960  6.634579e+00  \n",
       "3  SP.POP.DPND.YG  1960  8.102333e+01  \n",
       "4  MS.MIL.XPRT.KD  1960  3.000000e+06  "
      ]
     },
     "execution_count": 4,
     "metadata": {},
     "output_type": "execute_result"
    }
   ],
   "source": [
    "data.head()"
   ]
  },
  {
   "cell_type": "code",
   "execution_count": 5,
   "metadata": {},
   "outputs": [],
   "source": [
    "indicators = data['IndicatorName'].unique().tolist()"
   ]
  },
  {
   "cell_type": "code",
   "execution_count": 6,
   "metadata": {
    "scrolled": true
   },
   "outputs": [
    {
     "data": {
      "text/plain": [
       "['Adolescent fertility rate (births per 1,000 women ages 15-19)',\n",
       " 'Age dependency ratio (% of working-age population)',\n",
       " 'Age dependency ratio, old (% of working-age population)',\n",
       " 'Age dependency ratio, young (% of working-age population)',\n",
       " 'Arms exports (SIPRI trend indicator values)',\n",
       " 'Arms imports (SIPRI trend indicator values)',\n",
       " 'Birth rate, crude (per 1,000 people)',\n",
       " 'CO2 emissions (kt)',\n",
       " 'CO2 emissions (metric tons per capita)',\n",
       " 'CO2 emissions from gaseous fuel consumption (% of total)']"
      ]
     },
     "execution_count": 6,
     "metadata": {},
     "output_type": "execute_result"
    }
   ],
   "source": [
    "indicators[:10]"
   ]
  },
  {
   "cell_type": "markdown",
   "metadata": {},
   "source": [
    "## Selecting the Right Indicators "
   ]
  },
  {
   "cell_type": "markdown",
   "metadata": {},
   "source": [
    "**FIRST INDICATOR: 'Population, total'**\n",
    " to check the population of India over the past years"
   ]
  },
  {
   "cell_type": "code",
   "execution_count": 7,
   "metadata": {},
   "outputs": [],
   "source": [
    "maskpop = data['IndicatorName'].str.contains('Population, total')"
   ]
  },
  {
   "cell_type": "code",
   "execution_count": 8,
   "metadata": {},
   "outputs": [
    {
     "data": {
      "text/plain": [
       "True"
      ]
     },
     "execution_count": 8,
     "metadata": {},
     "output_type": "execute_result"
    }
   ],
   "source": [
    "maskpop.any()"
   ]
  },
  {
   "cell_type": "code",
   "execution_count": 9,
   "metadata": {},
   "outputs": [],
   "source": [
    "population_data = data[maskpop]"
   ]
  },
  {
   "cell_type": "code",
   "execution_count": 10,
   "metadata": {},
   "outputs": [
    {
     "data": {
      "text/html": [
       "<div>\n",
       "<style scoped>\n",
       "    .dataframe tbody tr th:only-of-type {\n",
       "        vertical-align: middle;\n",
       "    }\n",
       "\n",
       "    .dataframe tbody tr th {\n",
       "        vertical-align: top;\n",
       "    }\n",
       "\n",
       "    .dataframe thead th {\n",
       "        text-align: right;\n",
       "    }\n",
       "</style>\n",
       "<table border=\"1\" class=\"dataframe\">\n",
       "  <thead>\n",
       "    <tr style=\"text-align: right;\">\n",
       "      <th></th>\n",
       "      <th>CountryName</th>\n",
       "      <th>CountryCode</th>\n",
       "      <th>IndicatorName</th>\n",
       "      <th>IndicatorCode</th>\n",
       "      <th>Year</th>\n",
       "      <th>Value</th>\n",
       "    </tr>\n",
       "  </thead>\n",
       "  <tbody>\n",
       "    <tr>\n",
       "      <th>73</th>\n",
       "      <td>Arab World</td>\n",
       "      <td>ARB</td>\n",
       "      <td>Population, total</td>\n",
       "      <td>SP.POP.TOTL</td>\n",
       "      <td>1960</td>\n",
       "      <td>9.249590e+07</td>\n",
       "    </tr>\n",
       "    <tr>\n",
       "      <th>150</th>\n",
       "      <td>Caribbean small states</td>\n",
       "      <td>CSS</td>\n",
       "      <td>Population, total</td>\n",
       "      <td>SP.POP.TOTL</td>\n",
       "      <td>1960</td>\n",
       "      <td>4.190810e+06</td>\n",
       "    </tr>\n",
       "    <tr>\n",
       "      <th>221</th>\n",
       "      <td>Central Europe and the Baltics</td>\n",
       "      <td>CEB</td>\n",
       "      <td>Population, total</td>\n",
       "      <td>SP.POP.TOTL</td>\n",
       "      <td>1960</td>\n",
       "      <td>9.140158e+07</td>\n",
       "    </tr>\n",
       "    <tr>\n",
       "      <th>341</th>\n",
       "      <td>East Asia &amp; Pacific (all income levels)</td>\n",
       "      <td>EAS</td>\n",
       "      <td>Population, total</td>\n",
       "      <td>SP.POP.TOTL</td>\n",
       "      <td>1960</td>\n",
       "      <td>1.042475e+09</td>\n",
       "    </tr>\n",
       "    <tr>\n",
       "      <th>462</th>\n",
       "      <td>East Asia &amp; Pacific (developing only)</td>\n",
       "      <td>EAP</td>\n",
       "      <td>Population, total</td>\n",
       "      <td>SP.POP.TOTL</td>\n",
       "      <td>1960</td>\n",
       "      <td>8.964930e+08</td>\n",
       "    </tr>\n",
       "  </tbody>\n",
       "</table>\n",
       "</div>"
      ],
      "text/plain": [
       "                                 CountryName CountryCode      IndicatorName  \\\n",
       "73                                Arab World         ARB  Population, total   \n",
       "150                   Caribbean small states         CSS  Population, total   \n",
       "221           Central Europe and the Baltics         CEB  Population, total   \n",
       "341  East Asia & Pacific (all income levels)         EAS  Population, total   \n",
       "462    East Asia & Pacific (developing only)         EAP  Population, total   \n",
       "\n",
       "    IndicatorCode  Year         Value  \n",
       "73    SP.POP.TOTL  1960  9.249590e+07  \n",
       "150   SP.POP.TOTL  1960  4.190810e+06  \n",
       "221   SP.POP.TOTL  1960  9.140158e+07  \n",
       "341   SP.POP.TOTL  1960  1.042475e+09  \n",
       "462   SP.POP.TOTL  1960  8.964930e+08  "
      ]
     },
     "execution_count": 10,
     "metadata": {},
     "output_type": "execute_result"
    }
   ],
   "source": [
    "population_data.head()"
   ]
  },
  {
   "cell_type": "code",
   "execution_count": 11,
   "metadata": {},
   "outputs": [],
   "source": [
    "indiamask = population_data['CountryName'].str.contains('India')"
   ]
  },
  {
   "cell_type": "code",
   "execution_count": 12,
   "metadata": {},
   "outputs": [],
   "source": [
    "india_pop = population_data[indiamask]"
   ]
  },
  {
   "cell_type": "markdown",
   "metadata": {},
   "source": [
    "**INDIA Population Data from 1960 - 2014**"
   ]
  },
  {
   "cell_type": "code",
   "execution_count": 13,
   "metadata": {},
   "outputs": [
    {
     "data": {
      "text/html": [
       "<div>\n",
       "<style scoped>\n",
       "    .dataframe tbody tr th:only-of-type {\n",
       "        vertical-align: middle;\n",
       "    }\n",
       "\n",
       "    .dataframe tbody tr th {\n",
       "        vertical-align: top;\n",
       "    }\n",
       "\n",
       "    .dataframe thead th {\n",
       "        text-align: right;\n",
       "    }\n",
       "</style>\n",
       "<table border=\"1\" class=\"dataframe\">\n",
       "  <thead>\n",
       "    <tr style=\"text-align: right;\">\n",
       "      <th></th>\n",
       "      <th>CountryName</th>\n",
       "      <th>CountryCode</th>\n",
       "      <th>IndicatorName</th>\n",
       "      <th>IndicatorCode</th>\n",
       "      <th>Year</th>\n",
       "      <th>Value</th>\n",
       "    </tr>\n",
       "  </thead>\n",
       "  <tbody>\n",
       "    <tr>\n",
       "      <th>11758</th>\n",
       "      <td>India</td>\n",
       "      <td>IND</td>\n",
       "      <td>Population, total</td>\n",
       "      <td>SP.POP.TOTL</td>\n",
       "      <td>1960</td>\n",
       "      <td>449661874.0</td>\n",
       "    </tr>\n",
       "    <tr>\n",
       "      <th>36711</th>\n",
       "      <td>India</td>\n",
       "      <td>IND</td>\n",
       "      <td>Population, total</td>\n",
       "      <td>SP.POP.TOTL</td>\n",
       "      <td>1961</td>\n",
       "      <td>458691457.0</td>\n",
       "    </tr>\n",
       "    <tr>\n",
       "      <th>64254</th>\n",
       "      <td>India</td>\n",
       "      <td>IND</td>\n",
       "      <td>Population, total</td>\n",
       "      <td>SP.POP.TOTL</td>\n",
       "      <td>1962</td>\n",
       "      <td>468054145.0</td>\n",
       "    </tr>\n",
       "    <tr>\n",
       "      <th>92704</th>\n",
       "      <td>India</td>\n",
       "      <td>IND</td>\n",
       "      <td>Population, total</td>\n",
       "      <td>SP.POP.TOTL</td>\n",
       "      <td>1963</td>\n",
       "      <td>477729958.0</td>\n",
       "    </tr>\n",
       "    <tr>\n",
       "      <th>121503</th>\n",
       "      <td>India</td>\n",
       "      <td>IND</td>\n",
       "      <td>Population, total</td>\n",
       "      <td>SP.POP.TOTL</td>\n",
       "      <td>1964</td>\n",
       "      <td>487690114.0</td>\n",
       "    </tr>\n",
       "  </tbody>\n",
       "</table>\n",
       "</div>"
      ],
      "text/plain": [
       "       CountryName CountryCode      IndicatorName IndicatorCode  Year  \\\n",
       "11758        India         IND  Population, total   SP.POP.TOTL  1960   \n",
       "36711        India         IND  Population, total   SP.POP.TOTL  1961   \n",
       "64254        India         IND  Population, total   SP.POP.TOTL  1962   \n",
       "92704        India         IND  Population, total   SP.POP.TOTL  1963   \n",
       "121503       India         IND  Population, total   SP.POP.TOTL  1964   \n",
       "\n",
       "              Value  \n",
       "11758   449661874.0  \n",
       "36711   458691457.0  \n",
       "64254   468054145.0  \n",
       "92704   477729958.0  \n",
       "121503  487690114.0  "
      ]
     },
     "execution_count": 13,
     "metadata": {},
     "output_type": "execute_result"
    }
   ],
   "source": [
    "india_pop.head()"
   ]
  },
  {
   "cell_type": "code",
   "execution_count": 14,
   "metadata": {},
   "outputs": [
    {
     "data": {
      "text/plain": [
       "(55, 6)"
      ]
     },
     "execution_count": 14,
     "metadata": {},
     "output_type": "execute_result"
    }
   ],
   "source": [
    "india_pop.shape"
   ]
  },
  {
   "cell_type": "code",
   "execution_count": 15,
   "metadata": {},
   "outputs": [
    {
     "data": {
      "image/png": "[encoded data removed]",
      "text/plain": [
       "<Figure size 720x720 with 1 Axes>"
      ]
     },
     "metadata": {
      "needs_background": "light"
     },
     "output_type": "display_data"
    }
   ],
   "source": [
    "plt.figure(figsize= (10,10))\n",
    "plt.plot(india_pop['Year'], india_pop['Value'], color = '#AB2A2A', linewidth = 2.5)\n",
    "plt.fill_between(india_pop['Year'], india_pop['Value'], edgecolor = '#AB2A2A', facecolor = '#BB5454', alpha = 0.58)\n",
    "plt.title('India\\'s Population over the Past', fontsize = 20)\n",
    "plt.xlabel('Year', fontsize = 18)\n",
    "plt.ylabel('India\\'s Population', fontsize = 18)\n",
    "plt.ylim(0,1.45e9)\n",
    "plt.xlim(1958,2015)\n",
    "\n",
    "plt.rc('xtick', labelsize=20)\n",
    "plt.rc('ytick', labelsize=22)\n",
    "\n",
    "#plt.savefig('population1.png', dpi = 500, transparent = True)"
   ]
  },
  {
   "cell_type": "markdown",
   "metadata": {},
   "source": [
    "**SELECT INDICATOR: Exports of goods and services (current US$)**\n",
    "to check how much India is exporting how the growth is. I choose this parameter as a basis to define how much industrialization is happening in the country"
   ]
  },
  {
   "cell_type": "code",
   "execution_count": 16,
   "metadata": {},
   "outputs": [],
   "source": [
    "mask_exports = data['IndicatorName'].str.contains('Exports of goods and services \\(current US')"
   ]
  },
  {
   "cell_type": "code",
   "execution_count": 17,
   "metadata": {},
   "outputs": [
    {
     "data": {
      "text/plain": [
       "True"
      ]
     },
     "execution_count": 17,
     "metadata": {},
     "output_type": "execute_result"
    }
   ],
   "source": [
    "mask_exports.any()"
   ]
  },
  {
   "cell_type": "code",
   "execution_count": 18,
   "metadata": {},
   "outputs": [],
   "source": [
    "export_data = data[mask_exports]"
   ]
  },
  {
   "cell_type": "code",
   "execution_count": 19,
   "metadata": {},
   "outputs": [
    {
     "data": {
      "text/html": [
       "<div>\n",
       "<style scoped>\n",
       "    .dataframe tbody tr th:only-of-type {\n",
       "        vertical-align: middle;\n",
       "    }\n",
       "\n",
       "    .dataframe tbody tr th {\n",
       "        vertical-align: top;\n",
       "    }\n",
       "\n",
       "    .dataframe thead th {\n",
       "        text-align: right;\n",
       "    }\n",
       "</style>\n",
       "<table border=\"1\" class=\"dataframe\">\n",
       "  <thead>\n",
       "    <tr style=\"text-align: right;\">\n",
       "      <th></th>\n",
       "      <th>CountryName</th>\n",
       "      <th>CountryCode</th>\n",
       "      <th>IndicatorName</th>\n",
       "      <th>IndicatorCode</th>\n",
       "      <th>Year</th>\n",
       "      <th>Value</th>\n",
       "    </tr>\n",
       "  </thead>\n",
       "  <tbody>\n",
       "    <tr>\n",
       "      <th>92</th>\n",
       "      <td>Caribbean small states</td>\n",
       "      <td>CSS</td>\n",
       "      <td>Exports of goods and services (current US$)</td>\n",
       "      <td>NE.EXP.GNFS.CD</td>\n",
       "      <td>1960</td>\n",
       "      <td>8.725757e+08</td>\n",
       "    </tr>\n",
       "    <tr>\n",
       "      <th>257</th>\n",
       "      <td>East Asia &amp; Pacific (all income levels)</td>\n",
       "      <td>EAS</td>\n",
       "      <td>Exports of goods and services (current US$)</td>\n",
       "      <td>NE.EXP.GNFS.CD</td>\n",
       "      <td>1960</td>\n",
       "      <td>1.611636e+10</td>\n",
       "    </tr>\n",
       "    <tr>\n",
       "      <th>370</th>\n",
       "      <td>East Asia &amp; Pacific (developing only)</td>\n",
       "      <td>EAP</td>\n",
       "      <td>Exports of goods and services (current US$)</td>\n",
       "      <td>NE.EXP.GNFS.CD</td>\n",
       "      <td>1960</td>\n",
       "      <td>5.871789e+09</td>\n",
       "    </tr>\n",
       "    <tr>\n",
       "      <th>509</th>\n",
       "      <td>Euro area</td>\n",
       "      <td>EMU</td>\n",
       "      <td>Exports of goods and services (current US$)</td>\n",
       "      <td>NE.EXP.GNFS.CD</td>\n",
       "      <td>1960</td>\n",
       "      <td>4.229544e+10</td>\n",
       "    </tr>\n",
       "    <tr>\n",
       "      <th>615</th>\n",
       "      <td>Europe &amp; Central Asia (all income levels)</td>\n",
       "      <td>ECS</td>\n",
       "      <td>Exports of goods and services (current US$)</td>\n",
       "      <td>NE.EXP.GNFS.CD</td>\n",
       "      <td>1960</td>\n",
       "      <td>7.833431e+10</td>\n",
       "    </tr>\n",
       "  </tbody>\n",
       "</table>\n",
       "</div>"
      ],
      "text/plain": [
       "                                   CountryName CountryCode  \\\n",
       "92                      Caribbean small states         CSS   \n",
       "257    East Asia & Pacific (all income levels)         EAS   \n",
       "370      East Asia & Pacific (developing only)         EAP   \n",
       "509                                  Euro area         EMU   \n",
       "615  Europe & Central Asia (all income levels)         ECS   \n",
       "\n",
       "                                   IndicatorName   IndicatorCode  Year  \\\n",
       "92   Exports of goods and services (current US$)  NE.EXP.GNFS.CD  1960   \n",
       "257  Exports of goods and services (current US$)  NE.EXP.GNFS.CD  1960   \n",
       "370  Exports of goods and services (current US$)  NE.EXP.GNFS.CD  1960   \n",
       "509  Exports of goods and services (current US$)  NE.EXP.GNFS.CD  1960   \n",
       "615  Exports of goods and services (current US$)  NE.EXP.GNFS.CD  1960   \n",
       "\n",
       "            Value  \n",
       "92   8.725757e+08  \n",
       "257  1.611636e+10  \n",
       "370  5.871789e+09  \n",
       "509  4.229544e+10  \n",
       "615  7.833431e+10  "
      ]
     },
     "execution_count": 19,
     "metadata": {},
     "output_type": "execute_result"
    }
   ],
   "source": [
    "export_data.head()"
   ]
  },
  {
   "cell_type": "code",
   "execution_count": 20,
   "metadata": {},
   "outputs": [
    {
     "data": {
      "text/html": [
       "<div>\n",
       "<style scoped>\n",
       "    .dataframe tbody tr th:only-of-type {\n",
       "        vertical-align: middle;\n",
       "    }\n",
       "\n",
       "    .dataframe tbody tr th {\n",
       "        vertical-align: top;\n",
       "    }\n",
       "\n",
       "    .dataframe thead th {\n",
       "        text-align: right;\n",
       "    }\n",
       "</style>\n",
       "<table border=\"1\" class=\"dataframe\">\n",
       "  <thead>\n",
       "    <tr style=\"text-align: right;\">\n",
       "      <th></th>\n",
       "      <th>CountryName</th>\n",
       "      <th>CountryCode</th>\n",
       "      <th>IndicatorName</th>\n",
       "      <th>IndicatorCode</th>\n",
       "      <th>Year</th>\n",
       "      <th>Value</th>\n",
       "    </tr>\n",
       "  </thead>\n",
       "  <tbody>\n",
       "    <tr>\n",
       "      <th>5638618</th>\n",
       "      <td>Vanuatu</td>\n",
       "      <td>VUT</td>\n",
       "      <td>Exports of goods and services (current US$)</td>\n",
       "      <td>NE.EXP.GNFS.CD</td>\n",
       "      <td>2014</td>\n",
       "      <td>3.909275e+08</td>\n",
       "    </tr>\n",
       "    <tr>\n",
       "      <th>5639353</th>\n",
       "      <td>Vietnam</td>\n",
       "      <td>VNM</td>\n",
       "      <td>Exports of goods and services (current US$)</td>\n",
       "      <td>NE.EXP.GNFS.CD</td>\n",
       "      <td>2014</td>\n",
       "      <td>1.608897e+11</td>\n",
       "    </tr>\n",
       "    <tr>\n",
       "      <th>5639918</th>\n",
       "      <td>West Bank and Gaza</td>\n",
       "      <td>WBG</td>\n",
       "      <td>Exports of goods and services (current US$)</td>\n",
       "      <td>NE.EXP.GNFS.CD</td>\n",
       "      <td>2014</td>\n",
       "      <td>2.292926e+09</td>\n",
       "    </tr>\n",
       "    <tr>\n",
       "      <th>5640675</th>\n",
       "      <td>Zambia</td>\n",
       "      <td>ZMB</td>\n",
       "      <td>Exports of goods and services (current US$)</td>\n",
       "      <td>NE.EXP.GNFS.CD</td>\n",
       "      <td>2014</td>\n",
       "      <td>1.107102e+10</td>\n",
       "    </tr>\n",
       "    <tr>\n",
       "      <th>5641235</th>\n",
       "      <td>Zimbabwe</td>\n",
       "      <td>ZWE</td>\n",
       "      <td>Exports of goods and services (current US$)</td>\n",
       "      <td>NE.EXP.GNFS.CD</td>\n",
       "      <td>2014</td>\n",
       "      <td>3.841893e+09</td>\n",
       "    </tr>\n",
       "  </tbody>\n",
       "</table>\n",
       "</div>"
      ],
      "text/plain": [
       "                CountryName CountryCode  \\\n",
       "5638618             Vanuatu         VUT   \n",
       "5639353             Vietnam         VNM   \n",
       "5639918  West Bank and Gaza         WBG   \n",
       "5640675              Zambia         ZMB   \n",
       "5641235            Zimbabwe         ZWE   \n",
       "\n",
       "                                       IndicatorName   IndicatorCode  Year  \\\n",
       "5638618  Exports of goods and services (current US$)  NE.EXP.GNFS.CD  2014   \n",
       "5639353  Exports of goods and services (current US$)  NE.EXP.GNFS.CD  2014   \n",
       "5639918  Exports of goods and services (current US$)  NE.EXP.GNFS.CD  2014   \n",
       "5640675  Exports of goods and services (current US$)  NE.EXP.GNFS.CD  2014   \n",
       "5641235  Exports of goods and services (current US$)  NE.EXP.GNFS.CD  2014   \n",
       "\n",
       "                Value  \n",
       "5638618  3.909275e+08  \n",
       "5639353  1.608897e+11  \n",
       "5639918  2.292926e+09  \n",
       "5640675  1.107102e+10  \n",
       "5641235  3.841893e+09  "
      ]
     },
     "execution_count": 20,
     "metadata": {},
     "output_type": "execute_result"
    }
   ],
   "source": [
    "export_data.tail()"
   ]
  },
  {
   "cell_type": "code",
   "execution_count": 21,
   "metadata": {},
   "outputs": [],
   "source": [
    "india_mask2 = export_data['CountryName'].str.contains('India')"
   ]
  },
  {
   "cell_type": "code",
   "execution_count": 22,
   "metadata": {},
   "outputs": [],
   "source": [
    "india_exports = export_data[india_mask2]"
   ]
  },
  {
   "cell_type": "markdown",
   "metadata": {},
   "source": [
    "**India's Export Data over the past year**"
   ]
  },
  {
   "cell_type": "code",
   "execution_count": 23,
   "metadata": {},
   "outputs": [
    {
     "data": {
      "text/html": [
       "<div>\n",
       "<style scoped>\n",
       "    .dataframe tbody tr th:only-of-type {\n",
       "        vertical-align: middle;\n",
       "    }\n",
       "\n",
       "    .dataframe tbody tr th {\n",
       "        vertical-align: top;\n",
       "    }\n",
       "\n",
       "    .dataframe thead th {\n",
       "        text-align: right;\n",
       "    }\n",
       "</style>\n",
       "<table border=\"1\" class=\"dataframe\">\n",
       "  <thead>\n",
       "    <tr style=\"text-align: right;\">\n",
       "      <th></th>\n",
       "      <th>CountryName</th>\n",
       "      <th>CountryCode</th>\n",
       "      <th>IndicatorName</th>\n",
       "      <th>IndicatorCode</th>\n",
       "      <th>Year</th>\n",
       "      <th>Value</th>\n",
       "    </tr>\n",
       "  </thead>\n",
       "  <tbody>\n",
       "    <tr>\n",
       "      <th>11594</th>\n",
       "      <td>India</td>\n",
       "      <td>IND</td>\n",
       "      <td>Exports of goods and services (current US$)</td>\n",
       "      <td>NE.EXP.GNFS.CD</td>\n",
       "      <td>1960</td>\n",
       "      <td>1.652702e+09</td>\n",
       "    </tr>\n",
       "    <tr>\n",
       "      <th>36532</th>\n",
       "      <td>India</td>\n",
       "      <td>IND</td>\n",
       "      <td>Exports of goods and services (current US$)</td>\n",
       "      <td>NE.EXP.GNFS.CD</td>\n",
       "      <td>1961</td>\n",
       "      <td>1.688402e+09</td>\n",
       "    </tr>\n",
       "    <tr>\n",
       "      <th>64068</th>\n",
       "      <td>India</td>\n",
       "      <td>IND</td>\n",
       "      <td>Exports of goods and services (current US$)</td>\n",
       "      <td>NE.EXP.GNFS.CD</td>\n",
       "      <td>1962</td>\n",
       "      <td>1.757702e+09</td>\n",
       "    </tr>\n",
       "    <tr>\n",
       "      <th>92512</th>\n",
       "      <td>India</td>\n",
       "      <td>IND</td>\n",
       "      <td>Exports of goods and services (current US$)</td>\n",
       "      <td>NE.EXP.GNFS.CD</td>\n",
       "      <td>1963</td>\n",
       "      <td>2.072702e+09</td>\n",
       "    </tr>\n",
       "    <tr>\n",
       "      <th>121309</th>\n",
       "      <td>India</td>\n",
       "      <td>IND</td>\n",
       "      <td>Exports of goods and services (current US$)</td>\n",
       "      <td>NE.EXP.GNFS.CD</td>\n",
       "      <td>1964</td>\n",
       "      <td>2.104202e+09</td>\n",
       "    </tr>\n",
       "  </tbody>\n",
       "</table>\n",
       "</div>"
      ],
      "text/plain": [
       "       CountryName CountryCode                                IndicatorName  \\\n",
       "11594        India         IND  Exports of goods and services (current US$)   \n",
       "36532        India         IND  Exports of goods and services (current US$)   \n",
       "64068        India         IND  Exports of goods and services (current US$)   \n",
       "92512        India         IND  Exports of goods and services (current US$)   \n",
       "121309       India         IND  Exports of goods and services (current US$)   \n",
       "\n",
       "         IndicatorCode  Year         Value  \n",
       "11594   NE.EXP.GNFS.CD  1960  1.652702e+09  \n",
       "36532   NE.EXP.GNFS.CD  1961  1.688402e+09  \n",
       "64068   NE.EXP.GNFS.CD  1962  1.757702e+09  \n",
       "92512   NE.EXP.GNFS.CD  1963  2.072702e+09  \n",
       "121309  NE.EXP.GNFS.CD  1964  2.104202e+09  "
      ]
     },
     "execution_count": 23,
     "metadata": {},
     "output_type": "execute_result"
    }
   ],
   "source": [
    "india_exports.head()"
   ]
  },
  {
   "cell_type": "code",
   "execution_count": 24,
   "metadata": {},
   "outputs": [
    {
     "data": {
      "image/png": "[encoded data removed]",
      "text/plain": [
       "<Figure size 720x720 with 1 Axes>"
      ]
     },
     "metadata": {
      "needs_background": "light"
     },
     "output_type": "display_data"
    }
   ],
   "source": [
    "plt.figure(figsize= (10,10))\n",
    "plt.plot(india_exports['Year'], india_exports['Value'], color = '#033F2E', linewidth = 2.5)\n",
    "plt.fill_between(india_exports['Year'], india_exports['Value'], edgecolor = '#033F2E', facecolor = '#0BD49B', alpha = 0.58)\n",
    "plt.title('India\\'s Exports of Goods and Services', fontsize = 20)\n",
    "plt.xlabel('Year', fontsize = 18)\n",
    "plt.ylabel('India\\'s Exports', fontsize = 18)\n",
    "plt.ylim(0, 5.2e11)\n",
    "plt.rc('xtick', labelsize=20)\n",
    "plt.rc('ytick', labelsize=22)\n",
    "#plt.savefig('exports.png', dpi = 500, transparent = True)"
   ]
  },
  {
   "cell_type": "markdown",
   "metadata": {},
   "source": [
    "**THIRD PARAMETER: Electric power consumption (kWh per capita)** to check how with the increasing population and increasing exports, how it effects the energy consumption or how much the increase in exports increase the load on natural resources"
   ]
  },
  {
   "cell_type": "code",
   "execution_count": 25,
   "metadata": {},
   "outputs": [],
   "source": [
    "mask_powerconsumption = data['IndicatorName'].str.contains('Electric power consumption \\(kWh per capita')"
   ]
  },
  {
   "cell_type": "code",
   "execution_count": 26,
   "metadata": {},
   "outputs": [
    {
     "data": {
      "text/plain": [
       "True"
      ]
     },
     "execution_count": 26,
     "metadata": {},
     "output_type": "execute_result"
    }
   ],
   "source": [
    "mask_powerconsumption.any()"
   ]
  },
  {
   "cell_type": "code",
   "execution_count": 27,
   "metadata": {},
   "outputs": [],
   "source": [
    "powerconsumption_data = data[mask_powerconsumption]"
   ]
  },
  {
   "cell_type": "code",
   "execution_count": 28,
   "metadata": {},
   "outputs": [
    {
     "data": {
      "text/html": [
       "<div>\n",
       "<style scoped>\n",
       "    .dataframe tbody tr th:only-of-type {\n",
       "        vertical-align: middle;\n",
       "    }\n",
       "\n",
       "    .dataframe tbody tr th {\n",
       "        vertical-align: top;\n",
       "    }\n",
       "\n",
       "    .dataframe thead th {\n",
       "        text-align: right;\n",
       "    }\n",
       "</style>\n",
       "<table border=\"1\" class=\"dataframe\">\n",
       "  <thead>\n",
       "    <tr style=\"text-align: right;\">\n",
       "      <th></th>\n",
       "      <th>CountryName</th>\n",
       "      <th>CountryCode</th>\n",
       "      <th>IndicatorName</th>\n",
       "      <th>IndicatorCode</th>\n",
       "      <th>Year</th>\n",
       "      <th>Value</th>\n",
       "    </tr>\n",
       "  </thead>\n",
       "  <tbody>\n",
       "    <tr>\n",
       "      <th>495</th>\n",
       "      <td>Euro area</td>\n",
       "      <td>EMU</td>\n",
       "      <td>Electric power consumption (kWh per capita)</td>\n",
       "      <td>EG.USE.ELEC.KH.PC</td>\n",
       "      <td>1960</td>\n",
       "      <td>1214.933660</td>\n",
       "    </tr>\n",
       "    <tr>\n",
       "      <th>813</th>\n",
       "      <td>European Union</td>\n",
       "      <td>EUU</td>\n",
       "      <td>Electric power consumption (kWh per capita)</td>\n",
       "      <td>EG.USE.ELEC.KH.PC</td>\n",
       "      <td>1960</td>\n",
       "      <td>1427.783281</td>\n",
       "    </tr>\n",
       "    <tr>\n",
       "      <th>1105</th>\n",
       "      <td>High income</td>\n",
       "      <td>HIC</td>\n",
       "      <td>Electric power consumption (kWh per capita)</td>\n",
       "      <td>EG.USE.ELEC.KH.PC</td>\n",
       "      <td>1960</td>\n",
       "      <td>2272.976207</td>\n",
       "    </tr>\n",
       "    <tr>\n",
       "      <th>1305</th>\n",
       "      <td>High income: OECD</td>\n",
       "      <td>OEC</td>\n",
       "      <td>Electric power consumption (kWh per capita)</td>\n",
       "      <td>EG.USE.ELEC.KH.PC</td>\n",
       "      <td>1960</td>\n",
       "      <td>2272.976207</td>\n",
       "    </tr>\n",
       "    <tr>\n",
       "      <th>2438</th>\n",
       "      <td>North America</td>\n",
       "      <td>NAC</td>\n",
       "      <td>Electric power consumption (kWh per capita)</td>\n",
       "      <td>EG.USE.ELEC.KH.PC</td>\n",
       "      <td>1960</td>\n",
       "      <td>4192.355536</td>\n",
       "    </tr>\n",
       "  </tbody>\n",
       "</table>\n",
       "</div>"
      ],
      "text/plain": [
       "            CountryName CountryCode  \\\n",
       "495           Euro area         EMU   \n",
       "813      European Union         EUU   \n",
       "1105        High income         HIC   \n",
       "1305  High income: OECD         OEC   \n",
       "2438      North America         NAC   \n",
       "\n",
       "                                    IndicatorName      IndicatorCode  Year  \\\n",
       "495   Electric power consumption (kWh per capita)  EG.USE.ELEC.KH.PC  1960   \n",
       "813   Electric power consumption (kWh per capita)  EG.USE.ELEC.KH.PC  1960   \n",
       "1105  Electric power consumption (kWh per capita)  EG.USE.ELEC.KH.PC  1960   \n",
       "1305  Electric power consumption (kWh per capita)  EG.USE.ELEC.KH.PC  1960   \n",
       "2438  Electric power consumption (kWh per capita)  EG.USE.ELEC.KH.PC  1960   \n",
       "\n",
       "            Value  \n",
       "495   1214.933660  \n",
       "813   1427.783281  \n",
       "1105  2272.976207  \n",
       "1305  2272.976207  \n",
       "2438  4192.355536  "
      ]
     },
     "execution_count": 28,
     "metadata": {},
     "output_type": "execute_result"
    }
   ],
   "source": [
    "powerconsumption_data.head()"
   ]
  },
  {
   "cell_type": "code",
   "execution_count": 29,
   "metadata": {},
   "outputs": [],
   "source": [
    "indiamask3 = powerconsumption_data['CountryName'].str.contains('India')"
   ]
  },
  {
   "cell_type": "code",
   "execution_count": 30,
   "metadata": {},
   "outputs": [
    {
     "data": {
      "text/plain": [
       "True"
      ]
     },
     "execution_count": 30,
     "metadata": {},
     "output_type": "execute_result"
    }
   ],
   "source": [
    "indiamask3.any()"
   ]
  },
  {
   "cell_type": "code",
   "execution_count": 31,
   "metadata": {},
   "outputs": [],
   "source": [
    "indiapower_consp = powerconsumption_data[indiamask3] "
   ]
  },
  {
   "cell_type": "code",
   "execution_count": 32,
   "metadata": {},
   "outputs": [
    {
     "data": {
      "text/html": [
       "<div>\n",
       "<style scoped>\n",
       "    .dataframe tbody tr th:only-of-type {\n",
       "        vertical-align: middle;\n",
       "    }\n",
       "\n",
       "    .dataframe tbody tr th {\n",
       "        vertical-align: top;\n",
       "    }\n",
       "\n",
       "    .dataframe thead th {\n",
       "        text-align: right;\n",
       "    }\n",
       "</style>\n",
       "<table border=\"1\" class=\"dataframe\">\n",
       "  <thead>\n",
       "    <tr style=\"text-align: right;\">\n",
       "      <th></th>\n",
       "      <th>CountryName</th>\n",
       "      <th>CountryCode</th>\n",
       "      <th>IndicatorName</th>\n",
       "      <th>IndicatorCode</th>\n",
       "      <th>Year</th>\n",
       "      <th>Value</th>\n",
       "    </tr>\n",
       "  </thead>\n",
       "  <tbody>\n",
       "    <tr>\n",
       "      <th>394192</th>\n",
       "      <td>India</td>\n",
       "      <td>IND</td>\n",
       "      <td>Electric power consumption (kWh per capita)</td>\n",
       "      <td>EG.USE.ELEC.KH.PC</td>\n",
       "      <td>1971</td>\n",
       "      <td>97.990594</td>\n",
       "    </tr>\n",
       "    <tr>\n",
       "      <th>463190</th>\n",
       "      <td>India</td>\n",
       "      <td>IND</td>\n",
       "      <td>Electric power consumption (kWh per capita)</td>\n",
       "      <td>EG.USE.ELEC.KH.PC</td>\n",
       "      <td>1972</td>\n",
       "      <td>100.527659</td>\n",
       "    </tr>\n",
       "    <tr>\n",
       "      <th>532890</th>\n",
       "      <td>India</td>\n",
       "      <td>IND</td>\n",
       "      <td>Electric power consumption (kWh per capita)</td>\n",
       "      <td>EG.USE.ELEC.KH.PC</td>\n",
       "      <td>1973</td>\n",
       "      <td>100.855690</td>\n",
       "    </tr>\n",
       "    <tr>\n",
       "      <th>602780</th>\n",
       "      <td>India</td>\n",
       "      <td>IND</td>\n",
       "      <td>Electric power consumption (kWh per capita)</td>\n",
       "      <td>EG.USE.ELEC.KH.PC</td>\n",
       "      <td>1974</td>\n",
       "      <td>104.224813</td>\n",
       "    </tr>\n",
       "    <tr>\n",
       "      <th>674020</th>\n",
       "      <td>India</td>\n",
       "      <td>IND</td>\n",
       "      <td>Electric power consumption (kWh per capita)</td>\n",
       "      <td>EG.USE.ELEC.KH.PC</td>\n",
       "      <td>1975</td>\n",
       "      <td>114.816764</td>\n",
       "    </tr>\n",
       "  </tbody>\n",
       "</table>\n",
       "</div>"
      ],
      "text/plain": [
       "       CountryName CountryCode                                IndicatorName  \\\n",
       "394192       India         IND  Electric power consumption (kWh per capita)   \n",
       "463190       India         IND  Electric power consumption (kWh per capita)   \n",
       "532890       India         IND  Electric power consumption (kWh per capita)   \n",
       "602780       India         IND  Electric power consumption (kWh per capita)   \n",
       "674020       India         IND  Electric power consumption (kWh per capita)   \n",
       "\n",
       "            IndicatorCode  Year       Value  \n",
       "394192  EG.USE.ELEC.KH.PC  1971   97.990594  \n",
       "463190  EG.USE.ELEC.KH.PC  1972  100.527659  \n",
       "532890  EG.USE.ELEC.KH.PC  1973  100.855690  \n",
       "602780  EG.USE.ELEC.KH.PC  1974  104.224813  \n",
       "674020  EG.USE.ELEC.KH.PC  1975  114.816764  "
      ]
     },
     "execution_count": 32,
     "metadata": {},
     "output_type": "execute_result"
    }
   ],
   "source": [
    "indiapower_consp.head()"
   ]
  },
  {
   "cell_type": "code",
   "execution_count": 33,
   "metadata": {},
   "outputs": [
    {
     "data": {
      "text/plain": [
       "(1970, 2013)"
      ]
     },
     "execution_count": 33,
     "metadata": {},
     "output_type": "execute_result"
    },
    {
     "data": {
      "image/png": "[encoded data removed]",
      "text/plain": [
       "<Figure size 720x720 with 1 Axes>"
      ]
     },
     "metadata": {
      "needs_background": "light"
     },
     "output_type": "display_data"
    }
   ],
   "source": [
    "plt.figure(figsize= (10,10))\n",
    "plt.plot(indiapower_consp['Year'], indiapower_consp['Value'], color = '#1E3C66', linewidth = 2.5)\n",
    "plt.fill_between(indiapower_consp['Year'], indiapower_consp['Value'], edgecolor = '#1E3C66', facecolor = '#4C97FF', alpha = 0.58)\n",
    "plt.title('India\\'s Power Consumption over the Past')\n",
    "plt.xlabel('Year')\n",
    "plt.ylabel('India\\'s Power Comsumption')\n",
    "plt.ylim(50, 800)\n",
    "plt.xlim(1970, 2013)\n",
    "#plt.savefig('powerconsumption.png', dpi = 1000, transparent = True)"
   ]
  },
  {
   "cell_type": "markdown",
   "metadata": {},
   "source": [
    "**FOURTH PARAMTER: CO2 emissions (metric tons per capita)** to check how this increase in power consumption and and population growth have resulted in increase in Co-2 emissions"
   ]
  },
  {
   "cell_type": "code",
   "execution_count": 34,
   "metadata": {},
   "outputs": [],
   "source": [
    "co2_mask = data['IndicatorName'].str.contains('CO2 emissions \\(metric tons per capita')"
   ]
  },
  {
   "cell_type": "code",
   "execution_count": 35,
   "metadata": {},
   "outputs": [
    {
     "data": {
      "text/plain": [
       "True"
      ]
     },
     "execution_count": 35,
     "metadata": {},
     "output_type": "execute_result"
    }
   ],
   "source": [
    "co2_mask.any()"
   ]
  },
  {
   "cell_type": "code",
   "execution_count": 36,
   "metadata": {},
   "outputs": [],
   "source": [
    "co2emissions_data = data[co2_mask]"
   ]
  },
  {
   "cell_type": "code",
   "execution_count": 37,
   "metadata": {},
   "outputs": [],
   "source": [
    "indiamask4 = co2emissions_data['CountryName'].str.contains('India')"
   ]
  },
  {
   "cell_type": "code",
   "execution_count": 38,
   "metadata": {},
   "outputs": [],
   "source": [
    "india_co2emission = co2emissions_data[indiamask4]"
   ]
  },
  {
   "cell_type": "code",
   "execution_count": 39,
   "metadata": {},
   "outputs": [
    {
     "data": {
      "text/html": [
       "<div>\n",
       "<style scoped>\n",
       "    .dataframe tbody tr th:only-of-type {\n",
       "        vertical-align: middle;\n",
       "    }\n",
       "\n",
       "    .dataframe tbody tr th {\n",
       "        vertical-align: top;\n",
       "    }\n",
       "\n",
       "    .dataframe thead th {\n",
       "        text-align: right;\n",
       "    }\n",
       "</style>\n",
       "<table border=\"1\" class=\"dataframe\">\n",
       "  <thead>\n",
       "    <tr style=\"text-align: right;\">\n",
       "      <th></th>\n",
       "      <th>CountryName</th>\n",
       "      <th>CountryCode</th>\n",
       "      <th>IndicatorName</th>\n",
       "      <th>IndicatorCode</th>\n",
       "      <th>Year</th>\n",
       "      <th>Value</th>\n",
       "    </tr>\n",
       "  </thead>\n",
       "  <tbody>\n",
       "    <tr>\n",
       "      <th>11577</th>\n",
       "      <td>India</td>\n",
       "      <td>IND</td>\n",
       "      <td>CO2 emissions (metric tons per capita)</td>\n",
       "      <td>EN.ATM.CO2E.PC</td>\n",
       "      <td>1960</td>\n",
       "      <td>0.268161</td>\n",
       "    </tr>\n",
       "    <tr>\n",
       "      <th>36513</th>\n",
       "      <td>India</td>\n",
       "      <td>IND</td>\n",
       "      <td>CO2 emissions (metric tons per capita)</td>\n",
       "      <td>EN.ATM.CO2E.PC</td>\n",
       "      <td>1961</td>\n",
       "      <td>0.284292</td>\n",
       "    </tr>\n",
       "    <tr>\n",
       "      <th>64049</th>\n",
       "      <td>India</td>\n",
       "      <td>IND</td>\n",
       "      <td>CO2 emissions (metric tons per capita)</td>\n",
       "      <td>EN.ATM.CO2E.PC</td>\n",
       "      <td>1962</td>\n",
       "      <td>0.306519</td>\n",
       "    </tr>\n",
       "    <tr>\n",
       "      <th>92493</th>\n",
       "      <td>India</td>\n",
       "      <td>IND</td>\n",
       "      <td>CO2 emissions (metric tons per capita)</td>\n",
       "      <td>EN.ATM.CO2E.PC</td>\n",
       "      <td>1963</td>\n",
       "      <td>0.322533</td>\n",
       "    </tr>\n",
       "    <tr>\n",
       "      <th>121290</th>\n",
       "      <td>India</td>\n",
       "      <td>IND</td>\n",
       "      <td>CO2 emissions (metric tons per capita)</td>\n",
       "      <td>EN.ATM.CO2E.PC</td>\n",
       "      <td>1964</td>\n",
       "      <td>0.308900</td>\n",
       "    </tr>\n",
       "  </tbody>\n",
       "</table>\n",
       "</div>"
      ],
      "text/plain": [
       "       CountryName CountryCode                           IndicatorName  \\\n",
       "11577        India         IND  CO2 emissions (metric tons per capita)   \n",
       "36513        India         IND  CO2 emissions (metric tons per capita)   \n",
       "64049        India         IND  CO2 emissions (metric tons per capita)   \n",
       "92493        India         IND  CO2 emissions (metric tons per capita)   \n",
       "121290       India         IND  CO2 emissions (metric tons per capita)   \n",
       "\n",
       "         IndicatorCode  Year     Value  \n",
       "11577   EN.ATM.CO2E.PC  1960  0.268161  \n",
       "36513   EN.ATM.CO2E.PC  1961  0.284292  \n",
       "64049   EN.ATM.CO2E.PC  1962  0.306519  \n",
       "92493   EN.ATM.CO2E.PC  1963  0.322533  \n",
       "121290  EN.ATM.CO2E.PC  1964  0.308900  "
      ]
     },
     "execution_count": 39,
     "metadata": {},
     "output_type": "execute_result"
    }
   ],
   "source": [
    "india_co2emission.head()"
   ]
  },
  {
   "cell_type": "code",
   "execution_count": 40,
   "metadata": {
    "scrolled": false
   },
   "outputs": [
    {
     "data": {
      "image/png": "[encoded data removed]",
      "text/plain": [
       "<Figure size 720x720 with 1 Axes>"
      ]
     },
     "metadata": {
      "needs_background": "light"
     },
     "output_type": "display_data"
    }
   ],
   "source": [
    "plt.figure(figsize= (10,10))\n",
    "plt.plot(india_co2emission['Year'], india_co2emission['Value'], color = '#606600', linewidth = 2.5)\n",
    "plt.fill_between(india_co2emission['Year'], india_co2emission['Value'], edgecolor = '#606600', facecolor = '#F0FF00', alpha = 0.58)\n",
    "plt.title('CO2 emissions (metric tons per capita)', fontsize = 20)\n",
    "plt.xlabel('Year', fontsize = 18)\n",
    "plt.ylabel('India\\'s CO2 Emissions', fontsize = 18)\n",
    "plt.ylim(0, 2)\n",
    "plt.xlim(1959, 2012)\n",
    "plt.rc('xtick', labelsize=20)\n",
    "plt.rc('ytick', labelsize=22)\n",
    "#plt.savefig('population.png', dpi = 500, transparent = True)\n"
   ]
  },
  {
   "cell_type": "code",
   "execution_count": 41,
   "metadata": {},
   "outputs": [],
   "source": [
    "ruralpercentage = data['IndicatorName'].str.contains('Rural population \\(% of total population')"
   ]
  },
  {
   "cell_type": "code",
   "execution_count": 42,
   "metadata": {},
   "outputs": [],
   "source": [
    "rural_data = data[ruralpercentage]"
   ]
  },
  {
   "cell_type": "code",
   "execution_count": 43,
   "metadata": {},
   "outputs": [],
   "source": [
    "indiamask5 = rural_data['CountryName'].str.contains('India')"
   ]
  },
  {
   "cell_type": "code",
   "execution_count": 44,
   "metadata": {},
   "outputs": [],
   "source": [
    "india_rural = rural_data[indiamask5]"
   ]
  },
  {
   "cell_type": "code",
   "execution_count": 45,
   "metadata": {},
   "outputs": [
    {
     "data": {
      "text/html": [
       "<div>\n",
       "<style scoped>\n",
       "    .dataframe tbody tr th:only-of-type {\n",
       "        vertical-align: middle;\n",
       "    }\n",
       "\n",
       "    .dataframe tbody tr th {\n",
       "        vertical-align: top;\n",
       "    }\n",
       "\n",
       "    .dataframe thead th {\n",
       "        text-align: right;\n",
       "    }\n",
       "</style>\n",
       "<table border=\"1\" class=\"dataframe\">\n",
       "  <thead>\n",
       "    <tr style=\"text-align: right;\">\n",
       "      <th></th>\n",
       "      <th>CountryName</th>\n",
       "      <th>CountryCode</th>\n",
       "      <th>IndicatorName</th>\n",
       "      <th>IndicatorCode</th>\n",
       "      <th>Year</th>\n",
       "      <th>Value</th>\n",
       "    </tr>\n",
       "  </thead>\n",
       "  <tbody>\n",
       "    <tr>\n",
       "      <th>11760</th>\n",
       "      <td>India</td>\n",
       "      <td>IND</td>\n",
       "      <td>Rural population (% of total population)</td>\n",
       "      <td>SP.RUR.TOTL.ZS</td>\n",
       "      <td>1960</td>\n",
       "      <td>82.076</td>\n",
       "    </tr>\n",
       "    <tr>\n",
       "      <th>36713</th>\n",
       "      <td>India</td>\n",
       "      <td>IND</td>\n",
       "      <td>Rural population (% of total population)</td>\n",
       "      <td>SP.RUR.TOTL.ZS</td>\n",
       "      <td>1961</td>\n",
       "      <td>81.968</td>\n",
       "    </tr>\n",
       "    <tr>\n",
       "      <th>64258</th>\n",
       "      <td>India</td>\n",
       "      <td>IND</td>\n",
       "      <td>Rural population (% of total population)</td>\n",
       "      <td>SP.RUR.TOTL.ZS</td>\n",
       "      <td>1962</td>\n",
       "      <td>81.782</td>\n",
       "    </tr>\n",
       "    <tr>\n",
       "      <th>92706</th>\n",
       "      <td>India</td>\n",
       "      <td>IND</td>\n",
       "      <td>Rural population (% of total population)</td>\n",
       "      <td>SP.RUR.TOTL.ZS</td>\n",
       "      <td>1963</td>\n",
       "      <td>81.595</td>\n",
       "    </tr>\n",
       "    <tr>\n",
       "      <th>121505</th>\n",
       "      <td>India</td>\n",
       "      <td>IND</td>\n",
       "      <td>Rural population (% of total population)</td>\n",
       "      <td>SP.RUR.TOTL.ZS</td>\n",
       "      <td>1964</td>\n",
       "      <td>81.405</td>\n",
       "    </tr>\n",
       "  </tbody>\n",
       "</table>\n",
       "</div>"
      ],
      "text/plain": [
       "       CountryName CountryCode                             IndicatorName  \\\n",
       "11760        India         IND  Rural population (% of total population)   \n",
       "36713        India         IND  Rural population (% of total population)   \n",
       "64258        India         IND  Rural population (% of total population)   \n",
       "92706        India         IND  Rural population (% of total population)   \n",
       "121505       India         IND  Rural population (% of total population)   \n",
       "\n",
       "         IndicatorCode  Year   Value  \n",
       "11760   SP.RUR.TOTL.ZS  1960  82.076  \n",
       "36713   SP.RUR.TOTL.ZS  1961  81.968  \n",
       "64258   SP.RUR.TOTL.ZS  1962  81.782  \n",
       "92706   SP.RUR.TOTL.ZS  1963  81.595  \n",
       "121505  SP.RUR.TOTL.ZS  1964  81.405  "
      ]
     },
     "execution_count": 45,
     "metadata": {},
     "output_type": "execute_result"
    }
   ],
   "source": [
    "india_rural.head()"
   ]
  },
  {
   "cell_type": "code",
   "execution_count": 46,
   "metadata": {},
   "outputs": [
    {
     "data": {
      "image/png": "[encoded data removed]",
      "text/plain": [
       "<Figure size 720x720 with 1 Axes>"
      ]
     },
     "metadata": {
      "needs_background": "light"
     },
     "output_type": "display_data"
    }
   ],
   "source": [
    "plt.figure(figsize= (10,10))\n",
    "plt.plot(india_rural['Year'], india_rural['Value'], color = '#2D1A35', linewidth = 2.5)\n",
    "plt.fill_between(india_rural['Year'], india_rural['Value'], edgecolor = '#2D1A35', facecolor = '#9658B2', alpha = 0.25)\n",
    "plt.ylim(0,110)\n",
    "plt.xlim(1959, 2015)\n",
    "plt.title('Rural population (% of total population)', fontsize = 20)\n",
    "plt.xlabel('Year', fontsize = 18)\n",
    "plt.ylabel('India\\'s Rural population', fontsize = 18)\n",
    "plt.rc('xtick', labelsize=20)\n",
    "plt.rc('ytick', labelsize=22)\n",
    "#plt.savefig('ruralpopulation.png', dpi = 500, transparent = True)"
   ]
  },
  {
   "cell_type": "markdown",
   "metadata": {},
   "source": [
    "**Finding,  What are sources of electricity Production**"
   ]
  },
  {
   "cell_type": "code",
   "execution_count": 47,
   "metadata": {},
   "outputs": [],
   "source": [
    "mask_nonrenewable = data['IndicatorName'].str.contains('Electricity production from oil, gas and coal sources \\(% of total') "
   ]
  },
  {
   "cell_type": "code",
   "execution_count": 48,
   "metadata": {},
   "outputs": [
    {
     "data": {
      "text/plain": [
       "True"
      ]
     },
     "execution_count": 48,
     "metadata": {},
     "output_type": "execute_result"
    }
   ],
   "source": [
    "mask_nonrenewable.any()"
   ]
  },
  {
   "cell_type": "code",
   "execution_count": 49,
   "metadata": {},
   "outputs": [],
   "source": [
    "nonrenewable_data = data[mask_nonrenewable]"
   ]
  },
  {
   "cell_type": "code",
   "execution_count": 50,
   "metadata": {},
   "outputs": [
    {
     "data": {
      "text/html": [
       "<div>\n",
       "<style scoped>\n",
       "    .dataframe tbody tr th:only-of-type {\n",
       "        vertical-align: middle;\n",
       "    }\n",
       "\n",
       "    .dataframe tbody tr th {\n",
       "        vertical-align: top;\n",
       "    }\n",
       "\n",
       "    .dataframe thead th {\n",
       "        text-align: right;\n",
       "    }\n",
       "</style>\n",
       "<table border=\"1\" class=\"dataframe\">\n",
       "  <thead>\n",
       "    <tr style=\"text-align: right;\">\n",
       "      <th></th>\n",
       "      <th>CountryName</th>\n",
       "      <th>CountryCode</th>\n",
       "      <th>IndicatorName</th>\n",
       "      <th>IndicatorCode</th>\n",
       "      <th>Year</th>\n",
       "      <th>Value</th>\n",
       "    </tr>\n",
       "  </thead>\n",
       "  <tbody>\n",
       "    <tr>\n",
       "      <th>502</th>\n",
       "      <td>Euro area</td>\n",
       "      <td>EMU</td>\n",
       "      <td>Electricity production from oil, gas and coal ...</td>\n",
       "      <td>EG.ELC.FOSL.ZS</td>\n",
       "      <td>1960</td>\n",
       "      <td>55.057684</td>\n",
       "    </tr>\n",
       "    <tr>\n",
       "      <th>820</th>\n",
       "      <td>European Union</td>\n",
       "      <td>EUU</td>\n",
       "      <td>Electricity production from oil, gas and coal ...</td>\n",
       "      <td>EG.ELC.FOSL.ZS</td>\n",
       "      <td>1960</td>\n",
       "      <td>59.330142</td>\n",
       "    </tr>\n",
       "    <tr>\n",
       "      <th>1112</th>\n",
       "      <td>High income</td>\n",
       "      <td>HIC</td>\n",
       "      <td>Electricity production from oil, gas and coal ...</td>\n",
       "      <td>EG.ELC.FOSL.ZS</td>\n",
       "      <td>1960</td>\n",
       "      <td>55.332661</td>\n",
       "    </tr>\n",
       "    <tr>\n",
       "      <th>1312</th>\n",
       "      <td>High income: OECD</td>\n",
       "      <td>OEC</td>\n",
       "      <td>Electricity production from oil, gas and coal ...</td>\n",
       "      <td>EG.ELC.FOSL.ZS</td>\n",
       "      <td>1960</td>\n",
       "      <td>64.705518</td>\n",
       "    </tr>\n",
       "    <tr>\n",
       "      <th>2445</th>\n",
       "      <td>North America</td>\n",
       "      <td>NAC</td>\n",
       "      <td>Electricity production from oil, gas and coal ...</td>\n",
       "      <td>EG.ELC.FOSL.ZS</td>\n",
       "      <td>1960</td>\n",
       "      <td>72.128396</td>\n",
       "    </tr>\n",
       "  </tbody>\n",
       "</table>\n",
       "</div>"
      ],
      "text/plain": [
       "            CountryName CountryCode  \\\n",
       "502           Euro area         EMU   \n",
       "820      European Union         EUU   \n",
       "1112        High income         HIC   \n",
       "1312  High income: OECD         OEC   \n",
       "2445      North America         NAC   \n",
       "\n",
       "                                          IndicatorName   IndicatorCode  Year  \\\n",
       "502   Electricity production from oil, gas and coal ...  EG.ELC.FOSL.ZS  1960   \n",
       "820   Electricity production from oil, gas and coal ...  EG.ELC.FOSL.ZS  1960   \n",
       "1112  Electricity production from oil, gas and coal ...  EG.ELC.FOSL.ZS  1960   \n",
       "1312  Electricity production from oil, gas and coal ...  EG.ELC.FOSL.ZS  1960   \n",
       "2445  Electricity production from oil, gas and coal ...  EG.ELC.FOSL.ZS  1960   \n",
       "\n",
       "          Value  \n",
       "502   55.057684  \n",
       "820   59.330142  \n",
       "1112  55.332661  \n",
       "1312  64.705518  \n",
       "2445  72.128396  "
      ]
     },
     "execution_count": 50,
     "metadata": {},
     "output_type": "execute_result"
    }
   ],
   "source": [
    "nonrenewable_data.head()"
   ]
  },
  {
   "cell_type": "code",
   "execution_count": 51,
   "metadata": {},
   "outputs": [],
   "source": [
    "maskIndia9 = nonrenewable_data['CountryName'].str.contains('India')"
   ]
  },
  {
   "cell_type": "code",
   "execution_count": 52,
   "metadata": {},
   "outputs": [
    {
     "data": {
      "text/plain": [
       "True"
      ]
     },
     "execution_count": 52,
     "metadata": {},
     "output_type": "execute_result"
    }
   ],
   "source": [
    "maskIndia9.any()"
   ]
  },
  {
   "cell_type": "code",
   "execution_count": 53,
   "metadata": {},
   "outputs": [],
   "source": [
    "india_nonrenewable = nonrenewable_data[maskIndia9]"
   ]
  },
  {
   "cell_type": "code",
   "execution_count": 54,
   "metadata": {},
   "outputs": [
    {
     "data": {
      "text/html": [
       "<div>\n",
       "<style scoped>\n",
       "    .dataframe tbody tr th:only-of-type {\n",
       "        vertical-align: middle;\n",
       "    }\n",
       "\n",
       "    .dataframe tbody tr th {\n",
       "        vertical-align: top;\n",
       "    }\n",
       "\n",
       "    .dataframe thead th {\n",
       "        text-align: right;\n",
       "    }\n",
       "</style>\n",
       "<table border=\"1\" class=\"dataframe\">\n",
       "  <thead>\n",
       "    <tr style=\"text-align: right;\">\n",
       "      <th></th>\n",
       "      <th>CountryName</th>\n",
       "      <th>CountryCode</th>\n",
       "      <th>IndicatorName</th>\n",
       "      <th>IndicatorCode</th>\n",
       "      <th>Year</th>\n",
       "      <th>Value</th>\n",
       "    </tr>\n",
       "  </thead>\n",
       "  <tbody>\n",
       "    <tr>\n",
       "      <th>394199</th>\n",
       "      <td>India</td>\n",
       "      <td>IND</td>\n",
       "      <td>Electricity production from oil, gas and coal ...</td>\n",
       "      <td>EG.ELC.FOSL.ZS</td>\n",
       "      <td>1971</td>\n",
       "      <td>55.983369</td>\n",
       "    </tr>\n",
       "    <tr>\n",
       "      <th>463197</th>\n",
       "      <td>India</td>\n",
       "      <td>IND</td>\n",
       "      <td>Electricity production from oil, gas and coal ...</td>\n",
       "      <td>EG.ELC.FOSL.ZS</td>\n",
       "      <td>1972</td>\n",
       "      <td>59.816212</td>\n",
       "    </tr>\n",
       "    <tr>\n",
       "      <th>532897</th>\n",
       "      <td>India</td>\n",
       "      <td>IND</td>\n",
       "      <td>Electricity production from oil, gas and coal ...</td>\n",
       "      <td>EG.ELC.FOSL.ZS</td>\n",
       "      <td>1973</td>\n",
       "      <td>56.900104</td>\n",
       "    </tr>\n",
       "    <tr>\n",
       "      <th>602787</th>\n",
       "      <td>India</td>\n",
       "      <td>IND</td>\n",
       "      <td>Electricity production from oil, gas and coal ...</td>\n",
       "      <td>EG.ELC.FOSL.ZS</td>\n",
       "      <td>1974</td>\n",
       "      <td>60.760583</td>\n",
       "    </tr>\n",
       "    <tr>\n",
       "      <th>674027</th>\n",
       "      <td>India</td>\n",
       "      <td>IND</td>\n",
       "      <td>Electricity production from oil, gas and coal ...</td>\n",
       "      <td>EG.ELC.FOSL.ZS</td>\n",
       "      <td>1975</td>\n",
       "      <td>58.176803</td>\n",
       "    </tr>\n",
       "  </tbody>\n",
       "</table>\n",
       "</div>"
      ],
      "text/plain": [
       "       CountryName CountryCode  \\\n",
       "394199       India         IND   \n",
       "463197       India         IND   \n",
       "532897       India         IND   \n",
       "602787       India         IND   \n",
       "674027       India         IND   \n",
       "\n",
       "                                            IndicatorName   IndicatorCode  \\\n",
       "394199  Electricity production from oil, gas and coal ...  EG.ELC.FOSL.ZS   \n",
       "463197  Electricity production from oil, gas and coal ...  EG.ELC.FOSL.ZS   \n",
       "532897  Electricity production from oil, gas and coal ...  EG.ELC.FOSL.ZS   \n",
       "602787  Electricity production from oil, gas and coal ...  EG.ELC.FOSL.ZS   \n",
       "674027  Electricity production from oil, gas and coal ...  EG.ELC.FOSL.ZS   \n",
       "\n",
       "        Year      Value  \n",
       "394199  1971  55.983369  \n",
       "463197  1972  59.816212  \n",
       "532897  1973  56.900104  \n",
       "602787  1974  60.760583  \n",
       "674027  1975  58.176803  "
      ]
     },
     "execution_count": 54,
     "metadata": {},
     "output_type": "execute_result"
    }
   ],
   "source": [
    "india_nonrenewable.head()"
   ]
  },
  {
   "cell_type": "code",
   "execution_count": 55,
   "metadata": {},
   "outputs": [],
   "source": [
    "mask_renewable = data['IndicatorName'].str.contains('Electricity production from renewable sources, excluding hydroelectric \\(% of total')"
   ]
  },
  {
   "cell_type": "code",
   "execution_count": 56,
   "metadata": {},
   "outputs": [],
   "source": [
    "renewable_data = data[mask_renewable]"
   ]
  },
  {
   "cell_type": "code",
   "execution_count": 57,
   "metadata": {},
   "outputs": [
    {
     "data": {
      "text/html": [
       "<div>\n",
       "<style scoped>\n",
       "    .dataframe tbody tr th:only-of-type {\n",
       "        vertical-align: middle;\n",
       "    }\n",
       "\n",
       "    .dataframe tbody tr th {\n",
       "        vertical-align: top;\n",
       "    }\n",
       "\n",
       "    .dataframe thead th {\n",
       "        text-align: right;\n",
       "    }\n",
       "</style>\n",
       "<table border=\"1\" class=\"dataframe\">\n",
       "  <thead>\n",
       "    <tr style=\"text-align: right;\">\n",
       "      <th></th>\n",
       "      <th>CountryName</th>\n",
       "      <th>CountryCode</th>\n",
       "      <th>IndicatorName</th>\n",
       "      <th>IndicatorCode</th>\n",
       "      <th>Year</th>\n",
       "      <th>Value</th>\n",
       "    </tr>\n",
       "  </thead>\n",
       "  <tbody>\n",
       "    <tr>\n",
       "      <th>503</th>\n",
       "      <td>Euro area</td>\n",
       "      <td>EMU</td>\n",
       "      <td>Electricity production from renewable sources,...</td>\n",
       "      <td>EG.ELC.RNWX.ZS</td>\n",
       "      <td>1960</td>\n",
       "      <td>0.615391</td>\n",
       "    </tr>\n",
       "    <tr>\n",
       "      <th>821</th>\n",
       "      <td>European Union</td>\n",
       "      <td>EUU</td>\n",
       "      <td>Electricity production from renewable sources,...</td>\n",
       "      <td>EG.ELC.RNWX.ZS</td>\n",
       "      <td>1960</td>\n",
       "      <td>0.352812</td>\n",
       "    </tr>\n",
       "    <tr>\n",
       "      <th>1113</th>\n",
       "      <td>High income</td>\n",
       "      <td>HIC</td>\n",
       "      <td>Electricity production from renewable sources,...</td>\n",
       "      <td>EG.ELC.RNWX.ZS</td>\n",
       "      <td>1960</td>\n",
       "      <td>0.150760</td>\n",
       "    </tr>\n",
       "    <tr>\n",
       "      <th>1313</th>\n",
       "      <td>High income: OECD</td>\n",
       "      <td>OEC</td>\n",
       "      <td>Electricity production from renewable sources,...</td>\n",
       "      <td>EG.ELC.RNWX.ZS</td>\n",
       "      <td>1960</td>\n",
       "      <td>0.176297</td>\n",
       "    </tr>\n",
       "    <tr>\n",
       "      <th>2446</th>\n",
       "      <td>North America</td>\n",
       "      <td>NAC</td>\n",
       "      <td>Electricity production from renewable sources,...</td>\n",
       "      <td>EG.ELC.RNWX.ZS</td>\n",
       "      <td>1960</td>\n",
       "      <td>0.013318</td>\n",
       "    </tr>\n",
       "  </tbody>\n",
       "</table>\n",
       "</div>"
      ],
      "text/plain": [
       "            CountryName CountryCode  \\\n",
       "503           Euro area         EMU   \n",
       "821      European Union         EUU   \n",
       "1113        High income         HIC   \n",
       "1313  High income: OECD         OEC   \n",
       "2446      North America         NAC   \n",
       "\n",
       "                                          IndicatorName   IndicatorCode  Year  \\\n",
       "503   Electricity production from renewable sources,...  EG.ELC.RNWX.ZS  1960   \n",
       "821   Electricity production from renewable sources,...  EG.ELC.RNWX.ZS  1960   \n",
       "1113  Electricity production from renewable sources,...  EG.ELC.RNWX.ZS  1960   \n",
       "1313  Electricity production from renewable sources,...  EG.ELC.RNWX.ZS  1960   \n",
       "2446  Electricity production from renewable sources,...  EG.ELC.RNWX.ZS  1960   \n",
       "\n",
       "         Value  \n",
       "503   0.615391  \n",
       "821   0.352812  \n",
       "1113  0.150760  \n",
       "1313  0.176297  \n",
       "2446  0.013318  "
      ]
     },
     "execution_count": 57,
     "metadata": {},
     "output_type": "execute_result"
    }
   ],
   "source": [
    "renewable_data.head()"
   ]
  },
  {
   "cell_type": "code",
   "execution_count": 58,
   "metadata": {},
   "outputs": [],
   "source": [
    "indiamask8 = renewable_data['CountryName'].str.contains('India')"
   ]
  },
  {
   "cell_type": "code",
   "execution_count": 59,
   "metadata": {},
   "outputs": [
    {
     "data": {
      "text/plain": [
       "True"
      ]
     },
     "execution_count": 59,
     "metadata": {},
     "output_type": "execute_result"
    }
   ],
   "source": [
    "indiamask8.any()"
   ]
  },
  {
   "cell_type": "code",
   "execution_count": 60,
   "metadata": {},
   "outputs": [],
   "source": [
    "india_renewable = renewable_data[indiamask8]"
   ]
  },
  {
   "cell_type": "code",
   "execution_count": 61,
   "metadata": {
    "scrolled": true
   },
   "outputs": [
    {
     "data": {
      "text/html": [
       "<div>\n",
       "<style scoped>\n",
       "    .dataframe tbody tr th:only-of-type {\n",
       "        vertical-align: middle;\n",
       "    }\n",
       "\n",
       "    .dataframe tbody tr th {\n",
       "        vertical-align: top;\n",
       "    }\n",
       "\n",
       "    .dataframe thead th {\n",
       "        text-align: right;\n",
       "    }\n",
       "</style>\n",
       "<table border=\"1\" class=\"dataframe\">\n",
       "  <thead>\n",
       "    <tr style=\"text-align: right;\">\n",
       "      <th></th>\n",
       "      <th>CountryName</th>\n",
       "      <th>CountryCode</th>\n",
       "      <th>IndicatorName</th>\n",
       "      <th>IndicatorCode</th>\n",
       "      <th>Year</th>\n",
       "      <th>Value</th>\n",
       "    </tr>\n",
       "  </thead>\n",
       "  <tbody>\n",
       "    <tr>\n",
       "      <th>394200</th>\n",
       "      <td>India</td>\n",
       "      <td>IND</td>\n",
       "      <td>Electricity production from renewable sources,...</td>\n",
       "      <td>EG.ELC.RNWX.ZS</td>\n",
       "      <td>1971</td>\n",
       "      <td>0.0</td>\n",
       "    </tr>\n",
       "    <tr>\n",
       "      <th>463198</th>\n",
       "      <td>India</td>\n",
       "      <td>IND</td>\n",
       "      <td>Electricity production from renewable sources,...</td>\n",
       "      <td>EG.ELC.RNWX.ZS</td>\n",
       "      <td>1972</td>\n",
       "      <td>0.0</td>\n",
       "    </tr>\n",
       "    <tr>\n",
       "      <th>532898</th>\n",
       "      <td>India</td>\n",
       "      <td>IND</td>\n",
       "      <td>Electricity production from renewable sources,...</td>\n",
       "      <td>EG.ELC.RNWX.ZS</td>\n",
       "      <td>1973</td>\n",
       "      <td>0.0</td>\n",
       "    </tr>\n",
       "    <tr>\n",
       "      <th>602788</th>\n",
       "      <td>India</td>\n",
       "      <td>IND</td>\n",
       "      <td>Electricity production from renewable sources,...</td>\n",
       "      <td>EG.ELC.RNWX.ZS</td>\n",
       "      <td>1974</td>\n",
       "      <td>0.0</td>\n",
       "    </tr>\n",
       "    <tr>\n",
       "      <th>674028</th>\n",
       "      <td>India</td>\n",
       "      <td>IND</td>\n",
       "      <td>Electricity production from renewable sources,...</td>\n",
       "      <td>EG.ELC.RNWX.ZS</td>\n",
       "      <td>1975</td>\n",
       "      <td>0.0</td>\n",
       "    </tr>\n",
       "  </tbody>\n",
       "</table>\n",
       "</div>"
      ],
      "text/plain": [
       "       CountryName CountryCode  \\\n",
       "394200       India         IND   \n",
       "463198       India         IND   \n",
       "532898       India         IND   \n",
       "602788       India         IND   \n",
       "674028       India         IND   \n",
       "\n",
       "                                            IndicatorName   IndicatorCode  \\\n",
       "394200  Electricity production from renewable sources,...  EG.ELC.RNWX.ZS   \n",
       "463198  Electricity production from renewable sources,...  EG.ELC.RNWX.ZS   \n",
       "532898  Electricity production from renewable sources,...  EG.ELC.RNWX.ZS   \n",
       "602788  Electricity production from renewable sources,...  EG.ELC.RNWX.ZS   \n",
       "674028  Electricity production from renewable sources,...  EG.ELC.RNWX.ZS   \n",
       "\n",
       "        Year  Value  \n",
       "394200  1971    0.0  \n",
       "463198  1972    0.0  \n",
       "532898  1973    0.0  \n",
       "602788  1974    0.0  \n",
       "674028  1975    0.0  "
      ]
     },
     "execution_count": 61,
     "metadata": {},
     "output_type": "execute_result"
    }
   ],
   "source": [
    "india_renewable.head()"
   ]
  },
  {
   "cell_type": "code",
   "execution_count": 62,
   "metadata": {},
   "outputs": [],
   "source": [
    "mask_hydro = data['IndicatorName'].str.contains('Electricity production from hydroelectric sources \\(% of total')"
   ]
  },
  {
   "cell_type": "code",
   "execution_count": 63,
   "metadata": {},
   "outputs": [],
   "source": [
    "hydro_data = data[mask_hydro]"
   ]
  },
  {
   "cell_type": "code",
   "execution_count": 64,
   "metadata": {},
   "outputs": [],
   "source": [
    "indiamask0 = hydro_data['CountryName'].str.contains('India')"
   ]
  },
  {
   "cell_type": "code",
   "execution_count": 65,
   "metadata": {},
   "outputs": [],
   "source": [
    "india_hydro = hydro_data[indiamask0]"
   ]
  },
  {
   "cell_type": "code",
   "execution_count": 66,
   "metadata": {},
   "outputs": [
    {
     "data": {
      "text/html": [
       "<div>\n",
       "<style scoped>\n",
       "    .dataframe tbody tr th:only-of-type {\n",
       "        vertical-align: middle;\n",
       "    }\n",
       "\n",
       "    .dataframe tbody tr th {\n",
       "        vertical-align: top;\n",
       "    }\n",
       "\n",
       "    .dataframe thead th {\n",
       "        text-align: right;\n",
       "    }\n",
       "</style>\n",
       "<table border=\"1\" class=\"dataframe\">\n",
       "  <thead>\n",
       "    <tr style=\"text-align: right;\">\n",
       "      <th></th>\n",
       "      <th>CountryName</th>\n",
       "      <th>CountryCode</th>\n",
       "      <th>IndicatorName</th>\n",
       "      <th>IndicatorCode</th>\n",
       "      <th>Year</th>\n",
       "      <th>Value</th>\n",
       "    </tr>\n",
       "  </thead>\n",
       "  <tbody>\n",
       "    <tr>\n",
       "      <th>394195</th>\n",
       "      <td>India</td>\n",
       "      <td>IND</td>\n",
       "      <td>Electricity production from hydroelectric sour...</td>\n",
       "      <td>EG.ELC.HYRO.ZS</td>\n",
       "      <td>1971</td>\n",
       "      <td>42.224030</td>\n",
       "    </tr>\n",
       "    <tr>\n",
       "      <th>463193</th>\n",
       "      <td>India</td>\n",
       "      <td>IND</td>\n",
       "      <td>Electricity production from hydroelectric sour...</td>\n",
       "      <td>EG.ELC.HYRO.ZS</td>\n",
       "      <td>1972</td>\n",
       "      <td>38.577061</td>\n",
       "    </tr>\n",
       "    <tr>\n",
       "      <th>532893</th>\n",
       "      <td>India</td>\n",
       "      <td>IND</td>\n",
       "      <td>Electricity production from hydroelectric sour...</td>\n",
       "      <td>EG.ELC.HYRO.ZS</td>\n",
       "      <td>1973</td>\n",
       "      <td>39.808506</td>\n",
       "    </tr>\n",
       "    <tr>\n",
       "      <th>602783</th>\n",
       "      <td>India</td>\n",
       "      <td>IND</td>\n",
       "      <td>Electricity production from hydroelectric sour...</td>\n",
       "      <td>EG.ELC.HYRO.ZS</td>\n",
       "      <td>1974</td>\n",
       "      <td>36.362451</td>\n",
       "    </tr>\n",
       "    <tr>\n",
       "      <th>674023</th>\n",
       "      <td>India</td>\n",
       "      <td>IND</td>\n",
       "      <td>Electricity production from hydroelectric sour...</td>\n",
       "      <td>EG.ELC.HYRO.ZS</td>\n",
       "      <td>1975</td>\n",
       "      <td>38.767079</td>\n",
       "    </tr>\n",
       "  </tbody>\n",
       "</table>\n",
       "</div>"
      ],
      "text/plain": [
       "       CountryName CountryCode  \\\n",
       "394195       India         IND   \n",
       "463193       India         IND   \n",
       "532893       India         IND   \n",
       "602783       India         IND   \n",
       "674023       India         IND   \n",
       "\n",
       "                                            IndicatorName   IndicatorCode  \\\n",
       "394195  Electricity production from hydroelectric sour...  EG.ELC.HYRO.ZS   \n",
       "463193  Electricity production from hydroelectric sour...  EG.ELC.HYRO.ZS   \n",
       "532893  Electricity production from hydroelectric sour...  EG.ELC.HYRO.ZS   \n",
       "602783  Electricity production from hydroelectric sour...  EG.ELC.HYRO.ZS   \n",
       "674023  Electricity production from hydroelectric sour...  EG.ELC.HYRO.ZS   \n",
       "\n",
       "        Year      Value  \n",
       "394195  1971  42.224030  \n",
       "463193  1972  38.577061  \n",
       "532893  1973  39.808506  \n",
       "602783  1974  36.362451  \n",
       "674023  1975  38.767079  "
      ]
     },
     "execution_count": 66,
     "metadata": {},
     "output_type": "execute_result"
    }
   ],
   "source": [
    "india_hydro.head()"
   ]
  },
  {
   "cell_type": "code",
   "execution_count": 67,
   "metadata": {},
   "outputs": [
    {
     "data": {
      "text/plain": [
       "(42, 6)"
      ]
     },
     "execution_count": 67,
     "metadata": {},
     "output_type": "execute_result"
    }
   ],
   "source": [
    "india_hydro.shape"
   ]
  },
  {
   "cell_type": "markdown",
   "metadata": {},
   "source": [
    "**Setting the Year as Index**"
   ]
  },
  {
   "cell_type": "code",
   "execution_count": 68,
   "metadata": {},
   "outputs": [],
   "source": [
    "india_nonrenewable= india_nonrenewable.set_index('Year')"
   ]
  },
  {
   "cell_type": "code",
   "execution_count": 69,
   "metadata": {},
   "outputs": [],
   "source": [
    "india_hydro = india_hydro.set_index('Year')"
   ]
  },
  {
   "cell_type": "code",
   "execution_count": 70,
   "metadata": {},
   "outputs": [],
   "source": [
    "india_renewable = india_renewable.set_index('Year')"
   ]
  },
  {
   "cell_type": "code",
   "execution_count": 71,
   "metadata": {},
   "outputs": [
    {
     "data": {
      "text/html": [
       "<div>\n",
       "<style scoped>\n",
       "    .dataframe tbody tr th:only-of-type {\n",
       "        vertical-align: middle;\n",
       "    }\n",
       "\n",
       "    .dataframe tbody tr th {\n",
       "        vertical-align: top;\n",
       "    }\n",
       "\n",
       "    .dataframe thead th {\n",
       "        text-align: right;\n",
       "    }\n",
       "</style>\n",
       "<table border=\"1\" class=\"dataframe\">\n",
       "  <thead>\n",
       "    <tr style=\"text-align: right;\">\n",
       "      <th></th>\n",
       "      <th>CountryName</th>\n",
       "      <th>CountryCode</th>\n",
       "      <th>IndicatorName</th>\n",
       "      <th>IndicatorCode</th>\n",
       "      <th>Value</th>\n",
       "    </tr>\n",
       "    <tr>\n",
       "      <th>Year</th>\n",
       "      <th></th>\n",
       "      <th></th>\n",
       "      <th></th>\n",
       "      <th></th>\n",
       "      <th></th>\n",
       "    </tr>\n",
       "  </thead>\n",
       "  <tbody>\n",
       "    <tr>\n",
       "      <th>1971</th>\n",
       "      <td>India</td>\n",
       "      <td>IND</td>\n",
       "      <td>Electricity production from oil, gas and coal ...</td>\n",
       "      <td>EG.ELC.FOSL.ZS</td>\n",
       "      <td>55.983369</td>\n",
       "    </tr>\n",
       "    <tr>\n",
       "      <th>1972</th>\n",
       "      <td>India</td>\n",
       "      <td>IND</td>\n",
       "      <td>Electricity production from oil, gas and coal ...</td>\n",
       "      <td>EG.ELC.FOSL.ZS</td>\n",
       "      <td>59.816212</td>\n",
       "    </tr>\n",
       "    <tr>\n",
       "      <th>1973</th>\n",
       "      <td>India</td>\n",
       "      <td>IND</td>\n",
       "      <td>Electricity production from oil, gas and coal ...</td>\n",
       "      <td>EG.ELC.FOSL.ZS</td>\n",
       "      <td>56.900104</td>\n",
       "    </tr>\n",
       "    <tr>\n",
       "      <th>1974</th>\n",
       "      <td>India</td>\n",
       "      <td>IND</td>\n",
       "      <td>Electricity production from oil, gas and coal ...</td>\n",
       "      <td>EG.ELC.FOSL.ZS</td>\n",
       "      <td>60.760583</td>\n",
       "    </tr>\n",
       "    <tr>\n",
       "      <th>1975</th>\n",
       "      <td>India</td>\n",
       "      <td>IND</td>\n",
       "      <td>Electricity production from oil, gas and coal ...</td>\n",
       "      <td>EG.ELC.FOSL.ZS</td>\n",
       "      <td>58.176803</td>\n",
       "    </tr>\n",
       "  </tbody>\n",
       "</table>\n",
       "</div>"
      ],
      "text/plain": [
       "     CountryName CountryCode  \\\n",
       "Year                           \n",
       "1971       India         IND   \n",
       "1972       India         IND   \n",
       "1973       India         IND   \n",
       "1974       India         IND   \n",
       "1975       India         IND   \n",
       "\n",
       "                                          IndicatorName   IndicatorCode  \\\n",
       "Year                                                                      \n",
       "1971  Electricity production from oil, gas and coal ...  EG.ELC.FOSL.ZS   \n",
       "1972  Electricity production from oil, gas and coal ...  EG.ELC.FOSL.ZS   \n",
       "1973  Electricity production from oil, gas and coal ...  EG.ELC.FOSL.ZS   \n",
       "1974  Electricity production from oil, gas and coal ...  EG.ELC.FOSL.ZS   \n",
       "1975  Electricity production from oil, gas and coal ...  EG.ELC.FOSL.ZS   \n",
       "\n",
       "          Value  \n",
       "Year             \n",
       "1971  55.983369  \n",
       "1972  59.816212  \n",
       "1973  56.900104  \n",
       "1974  60.760583  \n",
       "1975  58.176803  "
      ]
     },
     "execution_count": 71,
     "metadata": {},
     "output_type": "execute_result"
    }
   ],
   "source": [
    "india_nonrenewable.head()"
   ]
  },
  {
   "cell_type": "code",
   "execution_count": 72,
   "metadata": {},
   "outputs": [],
   "source": [
    "y = np.vstack([india_nonrenewable['Value'], india_renewable['Value'], india_hydro['Value']])"
   ]
  },
  {
   "cell_type": "code",
   "execution_count": 73,
   "metadata": {
    "scrolled": false
   },
   "outputs": [
    {
     "data": {
      "image/png": "[encoded data removed]",
      "text/plain": [
       "<Figure size 864x864 with 1 Axes>"
      ]
     },
     "metadata": {
      "needs_background": "light"
     },
     "output_type": "display_data"
    }
   ],
   "source": [
    "legends = ['Electricity production from oil, gas and coal sources', 'Electricity production from hydroelectric sources', 'Electricity production from renewable sources']\n",
    "#col_pallete = list('#6CE5C3', '#9DEBFD', '#996400')\n",
    "plt.figure(figsize = (12,12))\n",
    "plt.stackplot(india_nonrenewable.index,  india_nonrenewable['Value'],india_hydro['Value'],india_renewable['Value'], labels = legends,  colors = ['#996400','#9DEBFD','#003C01'], alpha = 0.88)\n",
    "plt.ylim(0, 120)\n",
    "plt.xlabel('Year', fontsize = 18)\n",
    "plt.ylabel('Percentage of Electricity Production', fontsize = 18)\n",
    "plt.xlim(1970, 2013)\n",
    "plt.legend(loc='upper left', fontsize = 12)\n",
    "\n",
    "plt.savefig('Electric distribution.png', dpi = 650, transparent = True)"
   ]
  },
  {
   "cell_type": "markdown",
   "metadata": {},
   "source": [
    "## Creating other dataframe to incorporate all these data to find the correlation between them"
   ]
  },
  {
   "cell_type": "markdown",
   "metadata": {},
   "source": [
    "**Setting 'Year' as Index**"
   ]
  },
  {
   "cell_type": "code",
   "execution_count": 74,
   "metadata": {},
   "outputs": [],
   "source": [
    "india_co2emission = india_co2emission.set_index('Year')"
   ]
  },
  {
   "cell_type": "code",
   "execution_count": 75,
   "metadata": {},
   "outputs": [],
   "source": [
    "india_exports = india_exports.set_index('Year')"
   ]
  },
  {
   "cell_type": "code",
   "execution_count": 76,
   "metadata": {},
   "outputs": [],
   "source": [
    "india_pop = india_pop.set_index('Year')"
   ]
  },
  {
   "cell_type": "code",
   "execution_count": 77,
   "metadata": {},
   "outputs": [],
   "source": [
    "indiapower_consp = indiapower_consp.set_index('Year')"
   ]
  },
  {
   "cell_type": "code",
   "execution_count": 78,
   "metadata": {},
   "outputs": [
    {
     "data": {
      "text/html": [
       "<div>\n",
       "<style scoped>\n",
       "    .dataframe tbody tr th:only-of-type {\n",
       "        vertical-align: middle;\n",
       "    }\n",
       "\n",
       "    .dataframe tbody tr th {\n",
       "        vertical-align: top;\n",
       "    }\n",
       "\n",
       "    .dataframe thead th {\n",
       "        text-align: right;\n",
       "    }\n",
       "</style>\n",
       "<table border=\"1\" class=\"dataframe\">\n",
       "  <thead>\n",
       "    <tr style=\"text-align: right;\">\n",
       "      <th></th>\n",
       "      <th>CountryName</th>\n",
       "      <th>CountryCode</th>\n",
       "      <th>IndicatorName</th>\n",
       "      <th>IndicatorCode</th>\n",
       "      <th>Value</th>\n",
       "    </tr>\n",
       "    <tr>\n",
       "      <th>Year</th>\n",
       "      <th></th>\n",
       "      <th></th>\n",
       "      <th></th>\n",
       "      <th></th>\n",
       "      <th></th>\n",
       "    </tr>\n",
       "  </thead>\n",
       "  <tbody>\n",
       "    <tr>\n",
       "      <th>1960</th>\n",
       "      <td>India</td>\n",
       "      <td>IND</td>\n",
       "      <td>CO2 emissions (metric tons per capita)</td>\n",
       "      <td>EN.ATM.CO2E.PC</td>\n",
       "      <td>0.268161</td>\n",
       "    </tr>\n",
       "    <tr>\n",
       "      <th>1961</th>\n",
       "      <td>India</td>\n",
       "      <td>IND</td>\n",
       "      <td>CO2 emissions (metric tons per capita)</td>\n",
       "      <td>EN.ATM.CO2E.PC</td>\n",
       "      <td>0.284292</td>\n",
       "    </tr>\n",
       "    <tr>\n",
       "      <th>1962</th>\n",
       "      <td>India</td>\n",
       "      <td>IND</td>\n",
       "      <td>CO2 emissions (metric tons per capita)</td>\n",
       "      <td>EN.ATM.CO2E.PC</td>\n",
       "      <td>0.306519</td>\n",
       "    </tr>\n",
       "    <tr>\n",
       "      <th>1963</th>\n",
       "      <td>India</td>\n",
       "      <td>IND</td>\n",
       "      <td>CO2 emissions (metric tons per capita)</td>\n",
       "      <td>EN.ATM.CO2E.PC</td>\n",
       "      <td>0.322533</td>\n",
       "    </tr>\n",
       "    <tr>\n",
       "      <th>1964</th>\n",
       "      <td>India</td>\n",
       "      <td>IND</td>\n",
       "      <td>CO2 emissions (metric tons per capita)</td>\n",
       "      <td>EN.ATM.CO2E.PC</td>\n",
       "      <td>0.308900</td>\n",
       "    </tr>\n",
       "  </tbody>\n",
       "</table>\n",
       "</div>"
      ],
      "text/plain": [
       "     CountryName CountryCode                           IndicatorName  \\\n",
       "Year                                                                   \n",
       "1960       India         IND  CO2 emissions (metric tons per capita)   \n",
       "1961       India         IND  CO2 emissions (metric tons per capita)   \n",
       "1962       India         IND  CO2 emissions (metric tons per capita)   \n",
       "1963       India         IND  CO2 emissions (metric tons per capita)   \n",
       "1964       India         IND  CO2 emissions (metric tons per capita)   \n",
       "\n",
       "       IndicatorCode     Value  \n",
       "Year                            \n",
       "1960  EN.ATM.CO2E.PC  0.268161  \n",
       "1961  EN.ATM.CO2E.PC  0.284292  \n",
       "1962  EN.ATM.CO2E.PC  0.306519  \n",
       "1963  EN.ATM.CO2E.PC  0.322533  \n",
       "1964  EN.ATM.CO2E.PC  0.308900  "
      ]
     },
     "execution_count": 78,
     "metadata": {},
     "output_type": "execute_result"
    }
   ],
   "source": [
    "india_co2emission.head()"
   ]
  },
  {
   "cell_type": "code",
   "execution_count": 79,
   "metadata": {},
   "outputs": [
    {
     "data": {
      "text/html": [
       "<div>\n",
       "<style scoped>\n",
       "    .dataframe tbody tr th:only-of-type {\n",
       "        vertical-align: middle;\n",
       "    }\n",
       "\n",
       "    .dataframe tbody tr th {\n",
       "        vertical-align: top;\n",
       "    }\n",
       "\n",
       "    .dataframe thead th {\n",
       "        text-align: right;\n",
       "    }\n",
       "</style>\n",
       "<table border=\"1\" class=\"dataframe\">\n",
       "  <thead>\n",
       "    <tr style=\"text-align: right;\">\n",
       "      <th></th>\n",
       "      <th>CountryName</th>\n",
       "      <th>CountryCode</th>\n",
       "      <th>IndicatorName</th>\n",
       "      <th>IndicatorCode</th>\n",
       "      <th>Value</th>\n",
       "    </tr>\n",
       "    <tr>\n",
       "      <th>Year</th>\n",
       "      <th></th>\n",
       "      <th></th>\n",
       "      <th></th>\n",
       "      <th></th>\n",
       "      <th></th>\n",
       "    </tr>\n",
       "  </thead>\n",
       "  <tbody>\n",
       "    <tr>\n",
       "      <th>1960</th>\n",
       "      <td>India</td>\n",
       "      <td>IND</td>\n",
       "      <td>Population, total</td>\n",
       "      <td>SP.POP.TOTL</td>\n",
       "      <td>449661874.0</td>\n",
       "    </tr>\n",
       "    <tr>\n",
       "      <th>1961</th>\n",
       "      <td>India</td>\n",
       "      <td>IND</td>\n",
       "      <td>Population, total</td>\n",
       "      <td>SP.POP.TOTL</td>\n",
       "      <td>458691457.0</td>\n",
       "    </tr>\n",
       "    <tr>\n",
       "      <th>1962</th>\n",
       "      <td>India</td>\n",
       "      <td>IND</td>\n",
       "      <td>Population, total</td>\n",
       "      <td>SP.POP.TOTL</td>\n",
       "      <td>468054145.0</td>\n",
       "    </tr>\n",
       "    <tr>\n",
       "      <th>1963</th>\n",
       "      <td>India</td>\n",
       "      <td>IND</td>\n",
       "      <td>Population, total</td>\n",
       "      <td>SP.POP.TOTL</td>\n",
       "      <td>477729958.0</td>\n",
       "    </tr>\n",
       "    <tr>\n",
       "      <th>1964</th>\n",
       "      <td>India</td>\n",
       "      <td>IND</td>\n",
       "      <td>Population, total</td>\n",
       "      <td>SP.POP.TOTL</td>\n",
       "      <td>487690114.0</td>\n",
       "    </tr>\n",
       "  </tbody>\n",
       "</table>\n",
       "</div>"
      ],
      "text/plain": [
       "     CountryName CountryCode      IndicatorName IndicatorCode        Value\n",
       "Year                                                                      \n",
       "1960       India         IND  Population, total   SP.POP.TOTL  449661874.0\n",
       "1961       India         IND  Population, total   SP.POP.TOTL  458691457.0\n",
       "1962       India         IND  Population, total   SP.POP.TOTL  468054145.0\n",
       "1963       India         IND  Population, total   SP.POP.TOTL  477729958.0\n",
       "1964       India         IND  Population, total   SP.POP.TOTL  487690114.0"
      ]
     },
     "execution_count": 79,
     "metadata": {},
     "output_type": "execute_result"
    }
   ],
   "source": [
    "india_pop.head()"
   ]
  },
  {
   "cell_type": "code",
   "execution_count": 80,
   "metadata": {},
   "outputs": [
    {
     "data": {
      "text/html": [
       "<div>\n",
       "<style scoped>\n",
       "    .dataframe tbody tr th:only-of-type {\n",
       "        vertical-align: middle;\n",
       "    }\n",
       "\n",
       "    .dataframe tbody tr th {\n",
       "        vertical-align: top;\n",
       "    }\n",
       "\n",
       "    .dataframe thead th {\n",
       "        text-align: right;\n",
       "    }\n",
       "</style>\n",
       "<table border=\"1\" class=\"dataframe\">\n",
       "  <thead>\n",
       "    <tr style=\"text-align: right;\">\n",
       "      <th></th>\n",
       "      <th>CountryName</th>\n",
       "      <th>CountryCode</th>\n",
       "      <th>IndicatorName</th>\n",
       "      <th>IndicatorCode</th>\n",
       "      <th>Value</th>\n",
       "    </tr>\n",
       "    <tr>\n",
       "      <th>Year</th>\n",
       "      <th></th>\n",
       "      <th></th>\n",
       "      <th></th>\n",
       "      <th></th>\n",
       "      <th></th>\n",
       "    </tr>\n",
       "  </thead>\n",
       "  <tbody>\n",
       "    <tr>\n",
       "      <th>1960</th>\n",
       "      <td>India</td>\n",
       "      <td>IND</td>\n",
       "      <td>Exports of goods and services (current US$)</td>\n",
       "      <td>NE.EXP.GNFS.CD</td>\n",
       "      <td>1.652702e+09</td>\n",
       "    </tr>\n",
       "    <tr>\n",
       "      <th>1961</th>\n",
       "      <td>India</td>\n",
       "      <td>IND</td>\n",
       "      <td>Exports of goods and services (current US$)</td>\n",
       "      <td>NE.EXP.GNFS.CD</td>\n",
       "      <td>1.688402e+09</td>\n",
       "    </tr>\n",
       "    <tr>\n",
       "      <th>1962</th>\n",
       "      <td>India</td>\n",
       "      <td>IND</td>\n",
       "      <td>Exports of goods and services (current US$)</td>\n",
       "      <td>NE.EXP.GNFS.CD</td>\n",
       "      <td>1.757702e+09</td>\n",
       "    </tr>\n",
       "    <tr>\n",
       "      <th>1963</th>\n",
       "      <td>India</td>\n",
       "      <td>IND</td>\n",
       "      <td>Exports of goods and services (current US$)</td>\n",
       "      <td>NE.EXP.GNFS.CD</td>\n",
       "      <td>2.072702e+09</td>\n",
       "    </tr>\n",
       "    <tr>\n",
       "      <th>1964</th>\n",
       "      <td>India</td>\n",
       "      <td>IND</td>\n",
       "      <td>Exports of goods and services (current US$)</td>\n",
       "      <td>NE.EXP.GNFS.CD</td>\n",
       "      <td>2.104202e+09</td>\n",
       "    </tr>\n",
       "  </tbody>\n",
       "</table>\n",
       "</div>"
      ],
      "text/plain": [
       "     CountryName CountryCode                                IndicatorName  \\\n",
       "Year                                                                        \n",
       "1960       India         IND  Exports of goods and services (current US$)   \n",
       "1961       India         IND  Exports of goods and services (current US$)   \n",
       "1962       India         IND  Exports of goods and services (current US$)   \n",
       "1963       India         IND  Exports of goods and services (current US$)   \n",
       "1964       India         IND  Exports of goods and services (current US$)   \n",
       "\n",
       "       IndicatorCode         Value  \n",
       "Year                                \n",
       "1960  NE.EXP.GNFS.CD  1.652702e+09  \n",
       "1961  NE.EXP.GNFS.CD  1.688402e+09  \n",
       "1962  NE.EXP.GNFS.CD  1.757702e+09  \n",
       "1963  NE.EXP.GNFS.CD  2.072702e+09  \n",
       "1964  NE.EXP.GNFS.CD  2.104202e+09  "
      ]
     },
     "execution_count": 80,
     "metadata": {},
     "output_type": "execute_result"
    }
   ],
   "source": [
    "india_exports.head()"
   ]
  },
  {
   "cell_type": "code",
   "execution_count": 81,
   "metadata": {},
   "outputs": [
    {
     "data": {
      "text/html": [
       "<div>\n",
       "<style scoped>\n",
       "    .dataframe tbody tr th:only-of-type {\n",
       "        vertical-align: middle;\n",
       "    }\n",
       "\n",
       "    .dataframe tbody tr th {\n",
       "        vertical-align: top;\n",
       "    }\n",
       "\n",
       "    .dataframe thead th {\n",
       "        text-align: right;\n",
       "    }\n",
       "</style>\n",
       "<table border=\"1\" class=\"dataframe\">\n",
       "  <thead>\n",
       "    <tr style=\"text-align: right;\">\n",
       "      <th></th>\n",
       "      <th>CountryName</th>\n",
       "      <th>CountryCode</th>\n",
       "      <th>IndicatorName</th>\n",
       "      <th>IndicatorCode</th>\n",
       "      <th>Value</th>\n",
       "    </tr>\n",
       "    <tr>\n",
       "      <th>Year</th>\n",
       "      <th></th>\n",
       "      <th></th>\n",
       "      <th></th>\n",
       "      <th></th>\n",
       "      <th></th>\n",
       "    </tr>\n",
       "  </thead>\n",
       "  <tbody>\n",
       "    <tr>\n",
       "      <th>1971</th>\n",
       "      <td>India</td>\n",
       "      <td>IND</td>\n",
       "      <td>Electric power consumption (kWh per capita)</td>\n",
       "      <td>EG.USE.ELEC.KH.PC</td>\n",
       "      <td>97.990594</td>\n",
       "    </tr>\n",
       "    <tr>\n",
       "      <th>1972</th>\n",
       "      <td>India</td>\n",
       "      <td>IND</td>\n",
       "      <td>Electric power consumption (kWh per capita)</td>\n",
       "      <td>EG.USE.ELEC.KH.PC</td>\n",
       "      <td>100.527659</td>\n",
       "    </tr>\n",
       "    <tr>\n",
       "      <th>1973</th>\n",
       "      <td>India</td>\n",
       "      <td>IND</td>\n",
       "      <td>Electric power consumption (kWh per capita)</td>\n",
       "      <td>EG.USE.ELEC.KH.PC</td>\n",
       "      <td>100.855690</td>\n",
       "    </tr>\n",
       "    <tr>\n",
       "      <th>1974</th>\n",
       "      <td>India</td>\n",
       "      <td>IND</td>\n",
       "      <td>Electric power consumption (kWh per capita)</td>\n",
       "      <td>EG.USE.ELEC.KH.PC</td>\n",
       "      <td>104.224813</td>\n",
       "    </tr>\n",
       "    <tr>\n",
       "      <th>1975</th>\n",
       "      <td>India</td>\n",
       "      <td>IND</td>\n",
       "      <td>Electric power consumption (kWh per capita)</td>\n",
       "      <td>EG.USE.ELEC.KH.PC</td>\n",
       "      <td>114.816764</td>\n",
       "    </tr>\n",
       "  </tbody>\n",
       "</table>\n",
       "</div>"
      ],
      "text/plain": [
       "     CountryName CountryCode                                IndicatorName  \\\n",
       "Year                                                                        \n",
       "1971       India         IND  Electric power consumption (kWh per capita)   \n",
       "1972       India         IND  Electric power consumption (kWh per capita)   \n",
       "1973       India         IND  Electric power consumption (kWh per capita)   \n",
       "1974       India         IND  Electric power consumption (kWh per capita)   \n",
       "1975       India         IND  Electric power consumption (kWh per capita)   \n",
       "\n",
       "          IndicatorCode       Value  \n",
       "Year                                 \n",
       "1971  EG.USE.ELEC.KH.PC   97.990594  \n",
       "1972  EG.USE.ELEC.KH.PC  100.527659  \n",
       "1973  EG.USE.ELEC.KH.PC  100.855690  \n",
       "1974  EG.USE.ELEC.KH.PC  104.224813  \n",
       "1975  EG.USE.ELEC.KH.PC  114.816764  "
      ]
     },
     "execution_count": 81,
     "metadata": {},
     "output_type": "execute_result"
    }
   ],
   "source": [
    "indiapower_consp.head()"
   ]
  },
  {
   "cell_type": "code",
   "execution_count": 82,
   "metadata": {},
   "outputs": [],
   "source": [
    "merge_dict = {'Population': india_pop['Value'],'Exports': india_exports['Value'],  'Power Consumption': indiapower_consp['Value'],  'CO2 Emission': india_co2emission['Value']}"
   ]
  },
  {
   "cell_type": "code",
   "execution_count": 83,
   "metadata": {},
   "outputs": [],
   "source": [
    "subset_data = pd.DataFrame(merge_dict)"
   ]
  },
  {
   "cell_type": "code",
   "execution_count": 84,
   "metadata": {},
   "outputs": [
    {
     "data": {
      "text/html": [
       "<div>\n",
       "<style scoped>\n",
       "    .dataframe tbody tr th:only-of-type {\n",
       "        vertical-align: middle;\n",
       "    }\n",
       "\n",
       "    .dataframe tbody tr th {\n",
       "        vertical-align: top;\n",
       "    }\n",
       "\n",
       "    .dataframe thead th {\n",
       "        text-align: right;\n",
       "    }\n",
       "</style>\n",
       "<table border=\"1\" class=\"dataframe\">\n",
       "  <thead>\n",
       "    <tr style=\"text-align: right;\">\n",
       "      <th></th>\n",
       "      <th>Population</th>\n",
       "      <th>Exports</th>\n",
       "      <th>Power Consumption</th>\n",
       "      <th>CO2 Emission</th>\n",
       "    </tr>\n",
       "    <tr>\n",
       "      <th>Year</th>\n",
       "      <th></th>\n",
       "      <th></th>\n",
       "      <th></th>\n",
       "      <th></th>\n",
       "    </tr>\n",
       "  </thead>\n",
       "  <tbody>\n",
       "    <tr>\n",
       "      <th>1960</th>\n",
       "      <td>449661874.0</td>\n",
       "      <td>1.652702e+09</td>\n",
       "      <td>NaN</td>\n",
       "      <td>0.268161</td>\n",
       "    </tr>\n",
       "    <tr>\n",
       "      <th>1961</th>\n",
       "      <td>458691457.0</td>\n",
       "      <td>1.688402e+09</td>\n",
       "      <td>NaN</td>\n",
       "      <td>0.284292</td>\n",
       "    </tr>\n",
       "    <tr>\n",
       "      <th>1962</th>\n",
       "      <td>468054145.0</td>\n",
       "      <td>1.757702e+09</td>\n",
       "      <td>NaN</td>\n",
       "      <td>0.306519</td>\n",
       "    </tr>\n",
       "    <tr>\n",
       "      <th>1963</th>\n",
       "      <td>477729958.0</td>\n",
       "      <td>2.072702e+09</td>\n",
       "      <td>NaN</td>\n",
       "      <td>0.322533</td>\n",
       "    </tr>\n",
       "    <tr>\n",
       "      <th>1964</th>\n",
       "      <td>487690114.0</td>\n",
       "      <td>2.104202e+09</td>\n",
       "      <td>NaN</td>\n",
       "      <td>0.308900</td>\n",
       "    </tr>\n",
       "  </tbody>\n",
       "</table>\n",
       "</div>"
      ],
      "text/plain": [
       "       Population       Exports  Power Consumption  CO2 Emission\n",
       "Year                                                            \n",
       "1960  449661874.0  1.652702e+09                NaN      0.268161\n",
       "1961  458691457.0  1.688402e+09                NaN      0.284292\n",
       "1962  468054145.0  1.757702e+09                NaN      0.306519\n",
       "1963  477729958.0  2.072702e+09                NaN      0.322533\n",
       "1964  487690114.0  2.104202e+09                NaN      0.308900"
      ]
     },
     "execution_count": 84,
     "metadata": {},
     "output_type": "execute_result"
    }
   ],
   "source": [
    "subset_data.head()"
   ]
  },
  {
   "cell_type": "code",
   "execution_count": 85,
   "metadata": {},
   "outputs": [],
   "source": [
    "year_list = [i for i in range(1960,1971)]"
   ]
  },
  {
   "cell_type": "code",
   "execution_count": 86,
   "metadata": {},
   "outputs": [
    {
     "data": {
      "text/plain": [
       "[1960, 1961, 1962, 1963, 1964, 1965, 1966, 1967, 1968, 1969, 1970]"
      ]
     },
     "execution_count": 86,
     "metadata": {},
     "output_type": "execute_result"
    }
   ],
   "source": [
    "year_list"
   ]
  },
  {
   "cell_type": "code",
   "execution_count": 87,
   "metadata": {},
   "outputs": [],
   "source": [
    "subset_data = subset_data.drop(year_list)"
   ]
  },
  {
   "cell_type": "code",
   "execution_count": 88,
   "metadata": {},
   "outputs": [
    {
     "data": {
      "text/html": [
       "<div>\n",
       "<style scoped>\n",
       "    .dataframe tbody tr th:only-of-type {\n",
       "        vertical-align: middle;\n",
       "    }\n",
       "\n",
       "    .dataframe tbody tr th {\n",
       "        vertical-align: top;\n",
       "    }\n",
       "\n",
       "    .dataframe thead th {\n",
       "        text-align: right;\n",
       "    }\n",
       "</style>\n",
       "<table border=\"1\" class=\"dataframe\">\n",
       "  <thead>\n",
       "    <tr style=\"text-align: right;\">\n",
       "      <th></th>\n",
       "      <th>Population</th>\n",
       "      <th>Exports</th>\n",
       "      <th>Power Consumption</th>\n",
       "      <th>CO2 Emission</th>\n",
       "    </tr>\n",
       "    <tr>\n",
       "      <th>Year</th>\n",
       "      <th></th>\n",
       "      <th></th>\n",
       "      <th></th>\n",
       "      <th></th>\n",
       "    </tr>\n",
       "  </thead>\n",
       "  <tbody>\n",
       "    <tr>\n",
       "      <th>1971</th>\n",
       "      <td>566605402.0</td>\n",
       "      <td>2.469904e+09</td>\n",
       "      <td>97.990594</td>\n",
       "      <td>0.363338</td>\n",
       "    </tr>\n",
       "    <tr>\n",
       "      <th>1972</th>\n",
       "      <td>579800632.0</td>\n",
       "      <td>2.878179e+09</td>\n",
       "      <td>100.527659</td>\n",
       "      <td>0.375731</td>\n",
       "    </tr>\n",
       "    <tr>\n",
       "      <th>1973</th>\n",
       "      <td>593451889.0</td>\n",
       "      <td>3.599135e+09</td>\n",
       "      <td>100.855690</td>\n",
       "      <td>0.378031</td>\n",
       "    </tr>\n",
       "    <tr>\n",
       "      <th>1974</th>\n",
       "      <td>607446519.0</td>\n",
       "      <td>4.808426e+09</td>\n",
       "      <td>104.224813</td>\n",
       "      <td>0.381915</td>\n",
       "    </tr>\n",
       "    <tr>\n",
       "      <th>1975</th>\n",
       "      <td>621703641.0</td>\n",
       "      <td>5.560809e+09</td>\n",
       "      <td>114.816764</td>\n",
       "      <td>0.405662</td>\n",
       "    </tr>\n",
       "  </tbody>\n",
       "</table>\n",
       "</div>"
      ],
      "text/plain": [
       "       Population       Exports  Power Consumption  CO2 Emission\n",
       "Year                                                            \n",
       "1971  566605402.0  2.469904e+09          97.990594      0.363338\n",
       "1972  579800632.0  2.878179e+09         100.527659      0.375731\n",
       "1973  593451889.0  3.599135e+09         100.855690      0.378031\n",
       "1974  607446519.0  4.808426e+09         104.224813      0.381915\n",
       "1975  621703641.0  5.560809e+09         114.816764      0.405662"
      ]
     },
     "execution_count": 88,
     "metadata": {},
     "output_type": "execute_result"
    }
   ],
   "source": [
    "subset_data.head()"
   ]
  },
  {
   "cell_type": "code",
   "execution_count": 89,
   "metadata": {},
   "outputs": [],
   "source": [
    "subset_data = subset_data.drop(2013)"
   ]
  },
  {
   "cell_type": "code",
   "execution_count": 90,
   "metadata": {},
   "outputs": [],
   "source": [
    "subset_data = subset_data.drop(2014)"
   ]
  },
  {
   "cell_type": "code",
   "execution_count": 91,
   "metadata": {},
   "outputs": [],
   "source": [
    "subset_data = subset_data.drop(2012)"
   ]
  },
  {
   "cell_type": "code",
   "execution_count": 92,
   "metadata": {},
   "outputs": [
    {
     "data": {
      "text/html": [
       "<div>\n",
       "<style scoped>\n",
       "    .dataframe tbody tr th:only-of-type {\n",
       "        vertical-align: middle;\n",
       "    }\n",
       "\n",
       "    .dataframe tbody tr th {\n",
       "        vertical-align: top;\n",
       "    }\n",
       "\n",
       "    .dataframe thead th {\n",
       "        text-align: right;\n",
       "    }\n",
       "</style>\n",
       "<table border=\"1\" class=\"dataframe\">\n",
       "  <thead>\n",
       "    <tr style=\"text-align: right;\">\n",
       "      <th></th>\n",
       "      <th>Population</th>\n",
       "      <th>Exports</th>\n",
       "      <th>Power Consumption</th>\n",
       "      <th>CO2 Emission</th>\n",
       "    </tr>\n",
       "    <tr>\n",
       "      <th>Year</th>\n",
       "      <th></th>\n",
       "      <th></th>\n",
       "      <th></th>\n",
       "      <th></th>\n",
       "    </tr>\n",
       "  </thead>\n",
       "  <tbody>\n",
       "    <tr>\n",
       "      <th>1971</th>\n",
       "      <td>566605402.0</td>\n",
       "      <td>2.469904e+09</td>\n",
       "      <td>97.990594</td>\n",
       "      <td>0.363338</td>\n",
       "    </tr>\n",
       "    <tr>\n",
       "      <th>1972</th>\n",
       "      <td>579800632.0</td>\n",
       "      <td>2.878179e+09</td>\n",
       "      <td>100.527659</td>\n",
       "      <td>0.375731</td>\n",
       "    </tr>\n",
       "    <tr>\n",
       "      <th>1973</th>\n",
       "      <td>593451889.0</td>\n",
       "      <td>3.599135e+09</td>\n",
       "      <td>100.855690</td>\n",
       "      <td>0.378031</td>\n",
       "    </tr>\n",
       "    <tr>\n",
       "      <th>1974</th>\n",
       "      <td>607446519.0</td>\n",
       "      <td>4.808426e+09</td>\n",
       "      <td>104.224813</td>\n",
       "      <td>0.381915</td>\n",
       "    </tr>\n",
       "    <tr>\n",
       "      <th>1975</th>\n",
       "      <td>621703641.0</td>\n",
       "      <td>5.560809e+09</td>\n",
       "      <td>114.816764</td>\n",
       "      <td>0.405662</td>\n",
       "    </tr>\n",
       "  </tbody>\n",
       "</table>\n",
       "</div>"
      ],
      "text/plain": [
       "       Population       Exports  Power Consumption  CO2 Emission\n",
       "Year                                                            \n",
       "1971  566605402.0  2.469904e+09          97.990594      0.363338\n",
       "1972  579800632.0  2.878179e+09         100.527659      0.375731\n",
       "1973  593451889.0  3.599135e+09         100.855690      0.378031\n",
       "1974  607446519.0  4.808426e+09         104.224813      0.381915\n",
       "1975  621703641.0  5.560809e+09         114.816764      0.405662"
      ]
     },
     "execution_count": 92,
     "metadata": {},
     "output_type": "execute_result"
    }
   ],
   "source": [
    "subset_data.head()"
   ]
  },
  {
   "cell_type": "code",
   "execution_count": 93,
   "metadata": {},
   "outputs": [],
   "source": [
    "corr_subsetdata = subset_data.corr()\n"
   ]
  },
  {
   "cell_type": "code",
   "execution_count": 94,
   "metadata": {},
   "outputs": [
    {
     "data": {
      "text/plain": [
       "pandas.core.frame.DataFrame"
      ]
     },
     "execution_count": 94,
     "metadata": {},
     "output_type": "execute_result"
    }
   ],
   "source": [
    "type(corr_subsetdata)"
   ]
  },
  {
   "cell_type": "code",
   "execution_count": 95,
   "metadata": {},
   "outputs": [
    {
     "data": {
      "text/html": [
       "<div>\n",
       "<style scoped>\n",
       "    .dataframe tbody tr th:only-of-type {\n",
       "        vertical-align: middle;\n",
       "    }\n",
       "\n",
       "    .dataframe tbody tr th {\n",
       "        vertical-align: top;\n",
       "    }\n",
       "\n",
       "    .dataframe thead th {\n",
       "        text-align: right;\n",
       "    }\n",
       "</style>\n",
       "<table border=\"1\" class=\"dataframe\">\n",
       "  <thead>\n",
       "    <tr style=\"text-align: right;\">\n",
       "      <th></th>\n",
       "      <th>Population</th>\n",
       "      <th>Exports</th>\n",
       "      <th>Power Consumption</th>\n",
       "      <th>CO2 Emission</th>\n",
       "    </tr>\n",
       "  </thead>\n",
       "  <tbody>\n",
       "    <tr>\n",
       "      <th>Population</th>\n",
       "      <td>1.000000</td>\n",
       "      <td>0.777575</td>\n",
       "      <td>0.980156</td>\n",
       "      <td>0.986383</td>\n",
       "    </tr>\n",
       "    <tr>\n",
       "      <th>Exports</th>\n",
       "      <td>0.777575</td>\n",
       "      <td>1.000000</td>\n",
       "      <td>0.872297</td>\n",
       "      <td>0.849877</td>\n",
       "    </tr>\n",
       "    <tr>\n",
       "      <th>Power Consumption</th>\n",
       "      <td>0.980156</td>\n",
       "      <td>0.872297</td>\n",
       "      <td>1.000000</td>\n",
       "      <td>0.996209</td>\n",
       "    </tr>\n",
       "    <tr>\n",
       "      <th>CO2 Emission</th>\n",
       "      <td>0.986383</td>\n",
       "      <td>0.849877</td>\n",
       "      <td>0.996209</td>\n",
       "      <td>1.000000</td>\n",
       "    </tr>\n",
       "  </tbody>\n",
       "</table>\n",
       "</div>"
      ],
      "text/plain": [
       "                   Population   Exports  Power Consumption  CO2 Emission\n",
       "Population           1.000000  0.777575           0.980156      0.986383\n",
       "Exports              0.777575  1.000000           0.872297      0.849877\n",
       "Power Consumption    0.980156  0.872297           1.000000      0.996209\n",
       "CO2 Emission         0.986383  0.849877           0.996209      1.000000"
      ]
     },
     "execution_count": 95,
     "metadata": {},
     "output_type": "execute_result"
    }
   ],
   "source": [
    "corr_subsetdata"
   ]
  },
  {
   "cell_type": "code",
   "execution_count": null,
   "metadata": {},
   "outputs": [],
   "source": []
  }
 ],
 "metadata": {
  "kernelspec": {
   "display_name": "Python 3",
   "language": "python",
   "name": "python3"
  },
  "language_info": {
   "codemirror_mode": {
    "name": "ipython",
    "version": 3
   },
   "file_extension": ".py",
   "mimetype": "text/x-python",
   "name": "python",
   "nbconvert_exporter": "python",
   "pygments_lexer": "ipython3",
   "version": "3.7.6"
  }
 },
 "nbformat": 4,
 "nbformat_minor": 4
}
